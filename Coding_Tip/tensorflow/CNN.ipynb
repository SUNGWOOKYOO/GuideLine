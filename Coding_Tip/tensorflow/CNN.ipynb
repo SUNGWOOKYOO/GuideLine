{
 "cells": [
  {
   "cell_type": "markdown",
   "metadata": {},
   "source": [
    "# CNN"
   ]
  },
  {
   "cell_type": "code",
   "execution_count": 1,
   "metadata": {},
   "outputs": [
    {
     "name": "stdout",
     "output_type": "stream",
     "text": [
      "python is /home/kddlab/anaconda3/envs/swyoo_dl/bin/python\n",
      "3.6.9\n",
      "1.12.0\n"
     ]
    }
   ],
   "source": [
    "!type python \n",
    "from tqdm import tqdm\n",
    "from platform import python_version\n",
    "from warnings import filterwarnings\n",
    "filterwarnings('ignore')\n",
    "import tensorflow as tf\n",
    "import numpy as np\n",
    "import os\n",
    "import sys\n",
    "print(python_version())\n",
    "print(tf.__version__)\n",
    "# use GPU\n",
    "conf = tf.ConfigProto()\n",
    "conf.gpu_options.allow_growth = True\n",
    "# print(tf.test.is_gpu_available())"
   ]
  },
  {
   "cell_type": "code",
   "execution_count": 2,
   "metadata": {},
   "outputs": [
    {
     "name": "stdout",
     "output_type": "stream",
     "text": [
      "Size of:\n",
      "- Training-set:\t\t\t(55000, 28, 28) \t label: \t(55000,)\n",
      "- Validation-set:\t\t(5000, 28, 28) \t\t label: \t(5000,)\n",
      "- Test-set:\t\t\t(10000, 28, 28) \t label: \t(10000,)\n"
     ]
    }
   ],
   "source": [
    "# using tensorflow_gpu=1.12.0, dataset can be downloaded\n",
    "(train_x, train_y), (test_x, test_y) = tf.keras.datasets.mnist.load_data()\n",
    "valid_x, train_x, valid_y, train_y = train_x[:5000], train_x[5000:], train_y[:5000], train_y[5000:]\n",
    "print(\"Size of:\")\n",
    "print(\"- Training-set:\\t\\t\\t{} \\t label: \\t{}\".format(train_x.shape, train_y.shape))\n",
    "print(\"- Validation-set:\\t\\t{} \\t\\t label: \\t{}\".format(valid_x.shape, valid_y.shape))\n",
    "print(\"- Test-set:\\t\\t\\t{} \\t label: \\t{}\".format(test_x.shape, test_y.shape))"
   ]
  },
  {
   "cell_type": "code",
   "execution_count": 3,
   "metadata": {},
   "outputs": [],
   "source": [
    "\"\"\" helper functions \"\"\"\n",
    "# yield mini-batch function\n",
    "def get_minibatch(X, Y, b):\n",
    "    \"\"\"\n",
    "    inputs: \n",
    "    - X: data features, shape (N, D)\n",
    "    - Y: labels, shape (N, )\n",
    "    - b: batch size, shape ()\n",
    "    \n",
    "    outputs:\n",
    "    - x_mini, y_mini: minibatch dataset\n",
    "    \"\"\"\n",
    "    step = len(X) // b\n",
    "    # yield minibatch for each step\n",
    "    for indices in np.array_split(np.random.permutation(len(X)), step):\n",
    "        x_mini, y_mini = X[indices], Y[indices]\n",
    "        yield x_mini, y_mini"
   ]
  },
  {
   "cell_type": "markdown",
   "metadata": {},
   "source": [
    "## layers module"
   ]
  },
  {
   "cell_type": "code",
   "execution_count": 4,
   "metadata": {},
   "outputs": [],
   "source": [
    "\"\"\" layers module\"\"\"\n",
    "class Model:\n",
    "    # computation graph \n",
    "    def __init__(self, F, FW, FS, PW, PS, H, W, HD, L, beta):\n",
    "        \"\"\"\n",
    "        hyper parameters\n",
    "        F, FW, FS = conv layer filter size, window size, stride\n",
    "        PW, PS = pooling layer filter window size, stride \n",
    "        _, H, W = train_x.shape\n",
    "        HD = 128 # hidden dimension\n",
    "        L = 10 # number of labels\n",
    "        \"\"\"\n",
    "        # feed\n",
    "        self.X = tf.placeholder(dtype=tf.float32, shape=(None, H, W))\n",
    "        self.Y = tf.placeholder(dtype=tf.int64, shape=(None))\n",
    "        self.dropout = tf.placeholder(tf.float32)\n",
    "        \n",
    "        # helper\n",
    "        reg = tf.contrib.layers.l2_regularizer(scale=beta)\n",
    "        init = tf.contrib.layers.xavier_initializer()\n",
    "        \n",
    "        with tf.variable_scope('CNN', initializer=init, regularizer=reg):\n",
    "            # CNN inputs need channel, so expand_dims function is used\n",
    "            conv = tf.layers.conv2d(inputs=tf.expand_dims(self.X, axis=-1), filters=F, kernel_size=(FW,FW), strides=(FS,FS), activation=tf.nn.relu)\n",
    "            pool = tf.layers.max_pooling2d(inputs=conv, pool_size=(PW,PW), strides=(PS,PS))\n",
    "            \n",
    "        with tf.variable_scope('FC', initializer=init, regularizer=reg):\n",
    "            # flattened, so spatial information ignored\n",
    "            L0 = tf.contrib.layers.flatten(pool)\n",
    "            L1 = tf.contrib.layers.fully_connected(inputs=L0, num_outputs=HD, activation_fn=tf.nn.relu)\n",
    "            L1 = tf.nn.dropout(L1, keep_prob=self.dropout)\n",
    "            logits = tf.contrib.layers.fully_connected(inputs=L1, num_outputs=L, activation_fn=None)\n",
    "        with tf.variable_scope('loss'):\n",
    "            reg_loss = tf.get_collection(tf.GraphKeys.REGULARIZATION_LOSSES)\n",
    "            self.loss = tf.reduce_mean(tf.nn.sparse_softmax_cross_entropy_with_logits(labels=self.Y, logits=logits))\n",
    "            self.loss += tf.reduce_sum(reg_loss) # scalar\n",
    "        \n",
    "        # evaluation metric\n",
    "        self.pred = tf.argmax(logits, axis=1)\n",
    "        self.accuracy = tf.reduce_mean(tf.cast(tf.equal(self.pred, self.Y), dtype=tf.float32))\n",
    "        \n",
    "        \n",
    "    # train and evaluation  \n",
    "    def fit(self, config, train_x, train_y, valid_x, valid_y, epoch, lr, b, dr, keep_prob=0.7, \n",
    "            save=False, SAVE_FILE='./models_mnist/model', log=False, LOG_DIR='./models_mnist'):\n",
    "        \"\"\"\n",
    "        hyper parameters\n",
    "        - epoch = 10\n",
    "        - lr = 0.001\n",
    "        - b = 150 # minibatch size\n",
    "        - dr = 0.97 # learning rate decay rate\n",
    "        - keep_prob = 0.7\n",
    "        \"\"\"\n",
    "        step = tf.get_variable(name=\"global_step\", shape=(), initializer=tf.zeros_initializer(), trainable=False)\n",
    "        # each decay_step, learning rate will be decreased by decay_rate\n",
    "        # decayed_learning_rate = learning_rate * decay_rate^(global_step / decay_steps) \n",
    "        lr = tf.train.exponential_decay(learning_rate=lr, global_step=step, decay_steps=100, decay_rate=dr, staircase=True)\n",
    "        optimizer = tf.train.AdamOptimizer(learning_rate=lr).minimize(self.loss, global_step=step)\n",
    "        \n",
    "        _, H, W = train_x.shape\n",
    "        \n",
    "        # save options \n",
    "        saver = tf.train.Saver(var_list=tf.get_collection(tf.GraphKeys.TRAINABLE_VARIABLES))\n",
    "        # saver = tf.train.Saver()\n",
    "        \n",
    "        # tensorboard visualization\n",
    "        if log:\n",
    "            train_loss = tf.get_variable(name='train_loss', shape=(), dtype=tf.float32, initializer=tf.zeros_initializer(), trainable=False)\n",
    "            valid_acc = tf.get_variable(name='valid_acc', shape=(), dtype=tf.float32, initializer=tf.zeros_initializer(), trainable=False)\n",
    "            train_loss_summ = tf.summary.scalar('train_loss', train_loss)\n",
    "            valid_acc_summ = tf.summary.scalar('valid_acc', valid_acc)\n",
    "            summ_op = tf.summary.merge([train_loss_summ, valid_acc_summ])\n",
    "        \n",
    "        with tf.Session(config=config) as sess:\n",
    "            # initialize all variables \n",
    "            sess.run(tf.global_variables_initializer())\n",
    "            # add graph to tensorboard\n",
    "            if log:\n",
    "                print(\"@terminal: $ tensorboard --logdir={}\".format(LOG_DIR))\n",
    "                writer = tf.summary.FileWriter(LOG_DIR, session=sess)\n",
    "                writer.add_graph(sess.graph)\n",
    "            # minibatch training \n",
    "            k = 0\n",
    "            for e in range(epoch):\n",
    "                loss_train = 0\n",
    "                for i, xy in tqdm(enumerate(get_minibatch(train_x, train_y, b)), desc='Train'):\n",
    "                    # minibatch dataset\n",
    "                    x, y = xy\n",
    "                    feed = {self.X: x, self.Y: y, self.dropout: keep_prob}\n",
    "                    loss_mini, _ = sess.run([self.loss, optimizer], feed_dict=feed)\n",
    "                    loss_train += loss_mini\n",
    "                loss_train = loss_train / (i+1)\n",
    "                \n",
    "                # evaluation\n",
    "                acc_valid = self.accuracy.eval(feed_dict={self.X: valid_x, self.Y: valid_y, self.dropout: 1})\n",
    "                print('epoch {} \\t| loss: {:.4f} \\t| acc_valid: {:.4f} \\t| lr: {:0.5} '.format(e+1, loss_train, acc_valid, lr.eval()))\n",
    "                if log:\n",
    "                    sess.run([train_loss.assign(loss_train), valid_acc.assign(acc_valid)])\n",
    "                    summary = sess.run(summ_op)\n",
    "                    writer.add_summary(summary, global_step=k)\n",
    "                    k += 1\n",
    "            print(\"Training End\")\n",
    "            if save: \n",
    "                saver.save(sess, SAVE_FILE)\n",
    "                print(\"save model @{}\".format(SAVE_FILE))\n",
    "    # restore model and evaluation\n",
    "    def test(self, config, test_x, test_y, SAVE_FILE='./models_mnist/model'):\n",
    "        \"\"\"\n",
    "        restore trained weights and evaluate a model\n",
    "        \"\"\"\n",
    "        saver = tf.train.Saver(var_list=tf.get_collection(tf.GraphKeys.TRAINABLE_VARIABLES))\n",
    "        # saver = tf.train.Saver()\n",
    "        \n",
    "        with tf.Session(config=config) as sess:\n",
    "            saver.restore(sess, SAVE_FILE)\n",
    "            print(\"restore is completed\")\n",
    "            acc_test = self.accuracy.eval(feed_dict={self.X: test_x, self.Y: test_y, self.dropout: 1})\n",
    "            print(\"acc_test: {}\".format(acc_test))\n",
    "            \n",
    "    def summary(self):\n",
    "        # print(\"=============================================\")\n",
    "        # print(\"list of all parameters\")\n",
    "        # print(\"=============================================\")\n",
    "        # for x in tf.global_variables():\n",
    "        #     print(x)\n",
    "        \n",
    "        print(\"=============================================\")\n",
    "        print(\"list of all trainable parameters\")\n",
    "        print(\"=============================================\")\n",
    "        for x in tf.get_collection(tf.GraphKeys.TRAINABLE_VARIABLES):\n",
    "            print(x)\n",
    "        \n",
    "        # print(\"=============================================\")\n",
    "        # print(\"list of parameters reflected regularization \")\n",
    "        # print(\"=============================================\")\n",
    "        # for x in tf.get_collection(tf.GraphKeys.REGULARIZATION_LOSSES):\n",
    "        #     print(x)"
   ]
  },
  {
   "cell_type": "code",
   "execution_count": 5,
   "metadata": {},
   "outputs": [
    {
     "name": "stderr",
     "output_type": "stream",
     "text": [
      "Train: 0it [00:00, ?it/s]"
     ]
    },
    {
     "name": "stdout",
     "output_type": "stream",
     "text": [
      "@terminal: $ tensorboard --logdir=./models_mnist\n"
     ]
    },
    {
     "name": "stderr",
     "output_type": "stream",
     "text": [
      "Train: 366it [00:01, 317.37it/s]\n",
      "Train: 77it [00:00, 763.45it/s]"
     ]
    },
    {
     "name": "stdout",
     "output_type": "stream",
     "text": [
      "epoch 1 \t| loss: 9.9526 \t| acc_valid: 0.9350 \t| lr: 0.00091267 \n"
     ]
    },
    {
     "name": "stderr",
     "output_type": "stream",
     "text": [
      "Train: 366it [00:00, 782.94it/s]\n",
      "Train: 79it [00:00, 780.44it/s]"
     ]
    },
    {
     "name": "stdout",
     "output_type": "stream",
     "text": [
      "epoch 2 \t| loss: 3.7436 \t| acc_valid: 0.9618 \t| lr: 0.00080798 \n"
     ]
    },
    {
     "name": "stderr",
     "output_type": "stream",
     "text": [
      "Train: 366it [00:00, 763.54it/s]\n",
      "Train: 77it [00:00, 769.51it/s]"
     ]
    },
    {
     "name": "stdout",
     "output_type": "stream",
     "text": [
      "epoch 3 \t| loss: 1.9982 \t| acc_valid: 0.9722 \t| lr: 0.00073742 \n"
     ]
    },
    {
     "name": "stderr",
     "output_type": "stream",
     "text": [
      "Train: 366it [00:00, 787.08it/s]\n",
      "Train: 78it [00:00, 776.23it/s]"
     ]
    },
    {
     "name": "stdout",
     "output_type": "stream",
     "text": [
      "epoch 4 \t| loss: 1.1881 \t| acc_valid: 0.9722 \t| lr: 0.00065284 \n"
     ]
    },
    {
     "name": "stderr",
     "output_type": "stream",
     "text": [
      "Train: 366it [00:00, 760.97it/s]\n",
      "Train: 78it [00:00, 777.15it/s]"
     ]
    },
    {
     "name": "stdout",
     "output_type": "stream",
     "text": [
      "epoch 5 \t| loss: 0.7784 \t| acc_valid: 0.9786 \t| lr: 0.00057795 \n"
     ]
    },
    {
     "name": "stderr",
     "output_type": "stream",
     "text": [
      "Train: 366it [00:00, 779.86it/s]\n",
      "Train: 77it [00:00, 766.31it/s]"
     ]
    },
    {
     "name": "stdout",
     "output_type": "stream",
     "text": [
      "epoch 6 \t| loss: 0.5543 \t| acc_valid: 0.9772 \t| lr: 0.00052748 \n"
     ]
    },
    {
     "name": "stderr",
     "output_type": "stream",
     "text": [
      "Train: 366it [00:00, 762.51it/s]\n",
      "Train: 77it [00:00, 767.33it/s]"
     ]
    },
    {
     "name": "stdout",
     "output_type": "stream",
     "text": [
      "epoch 7 \t| loss: 0.4278 \t| acc_valid: 0.9792 \t| lr: 0.00046698 \n"
     ]
    },
    {
     "name": "stderr",
     "output_type": "stream",
     "text": [
      "Train: 366it [00:00, 772.38it/s]\n",
      "Train: 75it [00:00, 748.66it/s]"
     ]
    },
    {
     "name": "stdout",
     "output_type": "stream",
     "text": [
      "epoch 8 \t| loss: 0.3485 \t| acc_valid: 0.9796 \t| lr: 0.00041341 \n"
     ]
    },
    {
     "name": "stderr",
     "output_type": "stream",
     "text": [
      "Train: 366it [00:00, 751.95it/s]\n",
      "Train: 77it [00:00, 769.80it/s]"
     ]
    },
    {
     "name": "stdout",
     "output_type": "stream",
     "text": [
      "epoch 9 \t| loss: 0.2979 \t| acc_valid: 0.9776 \t| lr: 0.00037731 \n"
     ]
    },
    {
     "name": "stderr",
     "output_type": "stream",
     "text": [
      "Train: 366it [00:00, 777.88it/s]\n"
     ]
    },
    {
     "name": "stdout",
     "output_type": "stream",
     "text": [
      "epoch 10 \t| loss: 0.2631 \t| acc_valid: 0.9804 \t| lr: 0.00033403 \n",
      "Training End\n",
      "save model @./models_mnist/model\n",
      "=============================================\n",
      "list of all trainable parameters\n",
      "=============================================\n",
      "<tf.Variable 'CNN/conv2d/kernel:0' shape=(9, 9, 1, 8) dtype=float32_ref>\n",
      "<tf.Variable 'CNN/conv2d/bias:0' shape=(8,) dtype=float32_ref>\n",
      "<tf.Variable 'FC/fully_connected/weights:0' shape=(288, 128) dtype=float32_ref>\n",
      "<tf.Variable 'FC/fully_connected/biases:0' shape=(128,) dtype=float32_ref>\n",
      "<tf.Variable 'FC/fully_connected_1/weights:0' shape=(128, 10) dtype=float32_ref>\n",
      "<tf.Variable 'FC/fully_connected_1/biases:0' shape=(10,) dtype=float32_ref>\n",
      "INFO:tensorflow:Restoring parameters from ./models_mnist/model\n",
      "restore is completed\n",
      "acc_test: 0.9789999723434448\n"
     ]
    }
   ],
   "source": [
    "tf.reset_default_graph()\n",
    "_, H, W = train_x.shape\n",
    "model = Model(F=8, FW=9, FS=1, PW=3, PS=3, H=H, W=W, HD=128, L=10, beta=0.1)\n",
    "model.fit(conf, train_x, train_y, valid_x, valid_y, epoch=10, lr=0.001, b=150, dr=0.97, keep_prob=0.7, save=True, log=True)\n",
    "model.summary()\n",
    "model.test(conf, test_x, test_y)"
   ]
  },
  {
   "cell_type": "markdown",
   "metadata": {},
   "source": [
    "## keras module"
   ]
  },
  {
   "cell_type": "code",
   "execution_count": 6,
   "metadata": {},
   "outputs": [],
   "source": [
    "from tensorflow.keras import Model\n",
    "from tensorflow.keras.layers import Dense, Flatten, Dropout, Conv2D, MaxPool2D"
   ]
  },
  {
   "cell_type": "markdown",
   "metadata": {},
   "source": [
    "How to define customized loss function? [blog](https://towardsdatascience.com/advanced-keras-constructing-complex-custom-losses-and-metrics-c07ca130a618)"
   ]
  },
  {
   "cell_type": "code",
   "execution_count": 15,
   "metadata": {},
   "outputs": [],
   "source": [
    "class MyModel(Model):\n",
    "    def __init__(self, ):\n",
    "        super(MyModel, self).__init__()\n",
    "        \n",
    "        # helper\n",
    "        reg = tf.keras.regularizers.l2(l=0.01)\n",
    "        \n",
    "        with tf.variable_scope('CNN', regularizer=reg):\n",
    "            self.c1 = Conv2D(filters=8, kernel_size=(9,9), strides=(1,1))\n",
    "            self.p1 = MaxPool2D(pool_size=(3,3), strides=(3,3))\n",
    "\n",
    "        with tf.variable_scope('FC', regularizer=reg):\n",
    "            self.flat = Flatten()\n",
    "            self.d1 = Dense(units=128, activation='relu')\n",
    "            self.dr1 = Dropout(rate=0.7)\n",
    "            self.d2 = Dense(units=10, activation='softmax')\n",
    "        \n",
    "#         for l in tf.get_collection(tf.GraphKeys.REGULARIZATION_LOSSES):\n",
    "#             print(l)\n",
    "\n",
    "    # overriding \n",
    "    def call(self, x):\n",
    "        \"\"\"\n",
    "        params: \n",
    "        - x: inputs when it fits \n",
    "        return: predictions\n",
    "        \"\"\" \n",
    "        # CNN call \n",
    "        x = tf.expand_dims(x, axis=-1)\n",
    "        x = self.p1(self.c1(x))\n",
    "        \n",
    "        # FC call\n",
    "        x = self.d2(self.dr1(self.d1(self.flat(x))))\n",
    "        \n",
    "        return x"
   ]
  },
  {
   "cell_type": "code",
   "execution_count": 16,
   "metadata": {},
   "outputs": [
    {
     "name": "stdout",
     "output_type": "stream",
     "text": [
      "Epoch 1/5\n",
      "55000/55000 [==============================] - 1s 19us/step - loss: 6.7871 - acc: 0.5584\n",
      "Epoch 2/5\n",
      "55000/55000 [==============================] - 1s 12us/step - loss: 3.0229 - acc: 0.7943\n",
      "Epoch 3/5\n",
      "55000/55000 [==============================] - 1s 12us/step - loss: 2.2641 - acc: 0.8373\n",
      "Epoch 4/5\n",
      "55000/55000 [==============================] - 1s 12us/step - loss: 1.5583 - acc: 0.8322\n",
      "Epoch 5/5\n",
      "55000/55000 [==============================] - 1s 12us/step - loss: 0.9863 - acc: 0.7803\n",
      "_________________________________________________________________\n",
      "Layer (type)                 Output Shape              Param #   \n",
      "=================================================================\n",
      "conv2d_5 (Conv2D)            multiple                  656       \n",
      "_________________________________________________________________\n",
      "max_pooling2d_5 (MaxPooling2 multiple                  0         \n",
      "_________________________________________________________________\n",
      "flatten_5 (Flatten)          multiple                  0         \n",
      "_________________________________________________________________\n",
      "dense_8 (Dense)              multiple                  36992     \n",
      "_________________________________________________________________\n",
      "dropout_4 (Dropout)          multiple                  0         \n",
      "_________________________________________________________________\n",
      "dense_9 (Dense)              multiple                  1290      \n",
      "=================================================================\n",
      "Total params: 38,938\n",
      "Trainable params: 38,938\n",
      "Non-trainable params: 0\n",
      "_________________________________________________________________\n",
      "10000/10000 [==============================] - 0s 33us/step\n",
      "[0.43396645335406064, 0.9312]\n"
     ]
    }
   ],
   "source": [
    "model = MyModel()\n",
    "model.compile(optimizer='adam', \n",
    "              loss=tf.keras.losses.sparse_categorical_crossentropy, \n",
    "              metrics=['accuracy'])\n",
    "history = model.fit(x=train_x, y=train_y, batch_size=150, epochs=5, verbose=1)\n",
    "# history_dict = history.history\n",
    "# for key, values in history_dict.items():\n",
    "#     print(key, values)\n",
    "model.summary()\n",
    "results = model.evaluate(x=test_x, y=test_y, verbose=1)\n",
    "print(results)"
   ]
  }
 ],
 "metadata": {
  "kernelspec": {
   "display_name": "swyoo_dl",
   "language": "python",
   "name": "swyoo_dl"
  },
  "language_info": {
   "codemirror_mode": {
    "name": "ipython",
    "version": 3
   },
   "file_extension": ".py",
   "mimetype": "text/x-python",
   "name": "python",
   "nbconvert_exporter": "python",
   "pygments_lexer": "ipython3",
   "version": "3.6.9"
  }
 },
 "nbformat": 4,
 "nbformat_minor": 4
}

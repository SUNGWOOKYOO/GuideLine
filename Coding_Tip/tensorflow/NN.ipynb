{
 "cells": [
  {
   "cell_type": "markdown",
   "metadata": {},
   "source": [
    "# Fully Connected Nueral Net"
   ]
  },
  {
   "cell_type": "code",
   "execution_count": 1,
   "metadata": {},
   "outputs": [
    {
     "name": "stdout",
     "output_type": "stream",
     "text": [
      "python is /home/kddlab/anaconda3/envs/swyoo_dl/bin/python\n",
      "3.6.9\n",
      "1.12.0\n"
     ]
    }
   ],
   "source": [
    "!type python \n",
    "from tqdm import tqdm\n",
    "from platform import python_version\n",
    "from warnings import filterwarnings\n",
    "filterwarnings('ignore')\n",
    "import tensorflow as tf\n",
    "import numpy as np\n",
    "import os\n",
    "import sys\n",
    "print(python_version())\n",
    "print(tf.__version__)\n",
    "# use GPU\n",
    "conf = tf.ConfigProto()\n",
    "conf.gpu_options.allow_growth = True\n",
    "# print(tf.test.is_gpu_available())"
   ]
  },
  {
   "cell_type": "markdown",
   "metadata": {},
   "source": [
    "## load dataset\n",
    "```python\n",
    "# if you want to use this module, you can do it\n",
    "from sklearn.model_selection import train_test_split  # version 0.21.3\n",
    "```"
   ]
  },
  {
   "cell_type": "code",
   "execution_count": 2,
   "metadata": {},
   "outputs": [
    {
     "name": "stdout",
     "output_type": "stream",
     "text": [
      "Size of:\n",
      "- Training-set:\t\t\t(55000, 28, 28) \t label: \t(55000,)\n",
      "- Validation-set:\t\t(5000, 28, 28) \t\t label: \t(5000,)\n",
      "- Test-set:\t\t\t(10000, 28, 28) \t label: \t(10000,)\n"
     ]
    }
   ],
   "source": [
    "# using tensorflow_gpu=1.12.0, dataset can be downloaded\n",
    "(train_x, train_y), (test_x, test_y) = tf.keras.datasets.mnist.load_data()\n",
    "valid_x, train_x, valid_y, train_y = train_x[:5000], train_x[5000:], train_y[:5000], train_y[5000:]\n",
    "print(\"Size of:\")\n",
    "print(\"- Training-set:\\t\\t\\t{} \\t label: \\t{}\".format(train_x.shape, train_y.shape))\n",
    "print(\"- Validation-set:\\t\\t{} \\t\\t label: \\t{}\".format(valid_x.shape, valid_y.shape))\n",
    "print(\"- Test-set:\\t\\t\\t{} \\t label: \\t{}\".format(test_x.shape, test_y.shape))"
   ]
  },
  {
   "cell_type": "code",
   "execution_count": 3,
   "metadata": {},
   "outputs": [],
   "source": [
    "\"\"\" helper functions \"\"\"\n",
    "# yield mini-batch function\n",
    "def get_minibatch(X, Y, b):\n",
    "    \"\"\"\n",
    "    inputs: \n",
    "    - X: data features, shape (N, D)\n",
    "    - Y: labels, shape (N, )\n",
    "    - b: batch size, shape ()\n",
    "    \n",
    "    outputs:\n",
    "    - x_mini, y_mini: minibatch dataset\n",
    "    \"\"\"\n",
    "    step = len(X) // b\n",
    "    # yield minibatch for each step\n",
    "    for indices in np.array_split(np.random.permutation(len(X)), step):\n",
    "        x_mini, y_mini = X[indices], Y[indices]\n",
    "        yield x_mini, y_mini"
   ]
  },
  {
   "cell_type": "markdown",
   "metadata": {},
   "source": [
    "### basic module"
   ]
  },
  {
   "cell_type": "code",
   "execution_count": 4,
   "metadata": {},
   "outputs": [],
   "source": [
    "\"\"\" basic module\"\"\"\n",
    "class Model:\n",
    "    # computation graph \n",
    "    def __init__(self, H, W, HD, L):\n",
    "        \"\"\"\n",
    "        hyper parameters\n",
    "        _, H, W = train_x.shape\n",
    "        HD = 1024 # hidden dimension\n",
    "        L = 10 # number of labels\n",
    "        \"\"\"\n",
    "        # feed\n",
    "        self.X = tf.placeholder(dtype=tf.float32, shape=(None, H * W))\n",
    "        self.Y = tf.placeholder(dtype=tf.int64, shape=(None))\n",
    "\n",
    "        # parameters. \n",
    "        w1 = tf.Variable(tf.truncated_normal([H * W, HD]))\n",
    "        b1 = tf.Variable(tf.zeros([HD]))\n",
    "        w2 = tf.Variable(tf.truncated_normal([HD, L]))\n",
    "        b2 = tf.Variable(tf.zeros([L]))\n",
    "\n",
    "        # training computation.\n",
    "        hidden = tf.tanh(tf.matmul(self.X, w1) + b1)\n",
    "        self.logits = tf.matmul(hidden, w2) + b2\n",
    "        self.loss = tf.reduce_mean(tf.nn.sparse_softmax_cross_entropy_with_logits(labels=self.Y, logits=self.logits))\n",
    "\n",
    "        # predictions for the training, validation, and test data.\n",
    "        self.pred = tf.nn.softmax(self.logits)\n",
    "        \n",
    "        # metric\n",
    "        correct = tf.nn.in_top_k(predictions=self.logits, targets=self.Y, k=1)\n",
    "        self.accuracy = tf.reduce_mean(tf.cast(correct, dtype=tf.float32))\n",
    "        \n",
    "    # train and evaluation  \n",
    "    def fit(self, config, train_x, train_y, valid_x, valid_y, epoch, lr, b, dr, save=False, SAVE_FILE= './models_mnist/model'):\n",
    "        \"\"\"\n",
    "        hyper parameters\n",
    "        - epoch = 10\n",
    "        - lr = 0.001\n",
    "        - b = 150 # minibatch size\n",
    "        - dr = 0.97 # learning rate decay rate \n",
    "        \"\"\"\n",
    "        step =  tf.Variable(0, trainable=False, name='global_step')\n",
    "        # each decay_step, learning rate will be decreased by decay_rate\n",
    "        # decayed_learning_rate = learning_rate * decay_rate^(global_step / decay_steps) \n",
    "        lr = tf.train.exponential_decay(learning_rate=lr, global_step=step, decay_steps=100, decay_rate=dr, staircase=True)\n",
    "        optimizer = tf.train.AdamOptimizer(learning_rate=lr).minimize(self.loss, global_step=step)\n",
    "        \n",
    "        _, H, W = train_x.shape\n",
    "        \n",
    "        # save options \n",
    "        saver = tf.train.Saver()\n",
    "        \n",
    "        with tf.Session(config=config) as sess:\n",
    "            # initialize all variables \n",
    "            sess.run(tf.global_variables_initializer())\n",
    "\n",
    "            # minibatch training \n",
    "            for e in range(epoch):\n",
    "                loss_train = 0\n",
    "                for i, xy in tqdm(enumerate(get_minibatch(train_x, train_y, b)), desc='Train'):\n",
    "                    # minibatch dataset\n",
    "                    x, y = xy\n",
    "                    x = np.reshape(x, [-1, H*W])\n",
    "                    feed = {self.X: x, self.Y: y}\n",
    "                    loss_mini, _ = sess.run([self.loss, optimizer], feed_dict=feed)\n",
    "                    loss_train += loss_mini\n",
    "                loss_train = loss_train / (i+1)\n",
    "                \n",
    "                # evaluation\n",
    "                valid_x = np.reshape(valid_x, [-1, H*W])\n",
    "                acc_valid = self.accuracy.eval(feed_dict={self.X: valid_x, self.Y: valid_y})\n",
    "                print('epoch {} \\t| loss: {:.4f} \\t| acc_valid: {:.4f} \\t| lr: {:0.5} '.format(e+1, loss_train, acc_valid, lr.eval()))\n",
    "            print(\"Training End\")\n",
    "            if save: \n",
    "                saver.save(sess, SAVE_FILE)\n",
    "                print(\"save model @{}\".format(SAVE_FILE))\n",
    "    \n",
    "    # restore model and evaluation\n",
    "    def test(self, config, test_x, test_y, SAVE_FILE='./models_mnist/model'):\n",
    "        \"\"\"\n",
    "        restore trained weights and evaluate a model\n",
    "        \"\"\"\n",
    "        test_x = np.reshape(test_x, [-1, H*W])\n",
    "        saver = tf.train.Saver()\n",
    "        \n",
    "        with tf.Session(config=conf) as sess:\n",
    "            saver.restore(sess, SAVE_FILE)\n",
    "            print(\"restore is completed\")\n",
    "            acc_test = self.accuracy.eval(feed_dict={self.X: test_x, self.Y: test_y})\n",
    "            print(\"acc_test: {}\".format(acc_test))"
   ]
  },
  {
   "cell_type": "code",
   "execution_count": 5,
   "metadata": {},
   "outputs": [
    {
     "name": "stderr",
     "output_type": "stream",
     "text": [
      "Train: 366it [00:00, 689.27it/s]\n",
      "Train: 91it [00:00, 905.31it/s]"
     ]
    },
    {
     "name": "stdout",
     "output_type": "stream",
     "text": [
      "epoch 1 \t| loss: 14.7908 \t| acc_valid: 0.6430 \t| lr: 0.00091267 \n"
     ]
    },
    {
     "name": "stderr",
     "output_type": "stream",
     "text": [
      "Train: 366it [00:00, 913.21it/s]\n",
      "Train: 89it [00:00, 889.77it/s]"
     ]
    },
    {
     "name": "stdout",
     "output_type": "stream",
     "text": [
      "epoch 2 \t| loss: 6.1408 \t| acc_valid: 0.7416 \t| lr: 0.00080798 \n"
     ]
    },
    {
     "name": "stderr",
     "output_type": "stream",
     "text": [
      "Train: 366it [00:00, 907.29it/s]\n",
      "Train: 97it [00:00, 963.73it/s]"
     ]
    },
    {
     "name": "stdout",
     "output_type": "stream",
     "text": [
      "epoch 3 \t| loss: 4.6695 \t| acc_valid: 0.7836 \t| lr: 0.00073742 \n"
     ]
    },
    {
     "name": "stderr",
     "output_type": "stream",
     "text": [
      "Train: 366it [00:00, 953.11it/s]\n",
      "Train: 86it [00:00, 854.08it/s]"
     ]
    },
    {
     "name": "stdout",
     "output_type": "stream",
     "text": [
      "epoch 4 \t| loss: 3.9491 \t| acc_valid: 0.8074 \t| lr: 0.00065284 \n"
     ]
    },
    {
     "name": "stderr",
     "output_type": "stream",
     "text": [
      "Train: 366it [00:00, 912.61it/s]\n"
     ]
    },
    {
     "name": "stdout",
     "output_type": "stream",
     "text": [
      "epoch 5 \t| loss: 3.4931 \t| acc_valid: 0.8226 \t| lr: 0.00057795 \n",
      "Training End\n",
      "save model @./models_mnist/model\n",
      "INFO:tensorflow:Restoring parameters from ./models_mnist/model\n",
      "restore is completed\n",
      "acc_test: 0.8148000240325928\n"
     ]
    }
   ],
   "source": [
    "# Clear old variables\n",
    "tf.reset_default_graph()\n",
    "_, H, W = train_x.shape\n",
    "model = Model(H=H, W=W, HD=1024, L=10)\n",
    "model.fit(conf, train_x, train_y, valid_x, valid_y, epoch=5, lr=0.001, b=150, dr=0.97, save=True)\n",
    "model.test(conf, test_x, test_y)"
   ]
  },
  {
   "cell_type": "markdown",
   "metadata": {},
   "source": [
    "### layers module"
   ]
  },
  {
   "cell_type": "code",
   "execution_count": 6,
   "metadata": {},
   "outputs": [],
   "source": [
    "\"\"\" layers module\"\"\"\n",
    "class Model:\n",
    "    # computation graph \n",
    "    def __init__(self, H, W, HD, L, beta):\n",
    "        \"\"\"\n",
    "        hyper parameters\n",
    "        _, H, W = train_x.shape\n",
    "        HD = 1024 # hidden dimension\n",
    "        L = 10 # number of labels\n",
    "        \"\"\"\n",
    "        # feed\n",
    "        self.X = tf.placeholder(dtype=tf.float32, shape=(None, H, W))\n",
    "        self.Y = tf.placeholder(dtype=tf.int64, shape=(None))\n",
    "        self.dropout = tf.placeholder(tf.float32)\n",
    "        \n",
    "        # helper\n",
    "        reg = tf.contrib.layers.l2_regularizer(scale=beta)\n",
    "        init = tf.contrib.layers.xavier_initializer()\n",
    "        \n",
    "        with tf.variable_scope(\"FC\", initializer=init, regularizer=reg):\n",
    "            X = tf.contrib.layers.flatten(self.X)\n",
    "            dense = tf.contrib.layers.fully_connected(inputs=X, num_outputs=HD, activation_fn=tf.nn.relu)\n",
    "            # dense = tf.layers.dense(x, L, activation = tf.nn.relu)\n",
    "            dense = tf.nn.dropout(dense, keep_prob=self.dropout)\n",
    "            self.logits = tf.contrib.layers.fully_connected(inputs=dense, num_outputs=L, activation_fn=None)\n",
    "            # self.logits = tf.layers.dense(dense, L, activation=None)\n",
    "\n",
    "        with tf.variable_scope(\"loss\", initializer=init, regularizer=reg):\n",
    "            reg_loss = tf.get_collection(tf.GraphKeys.REGULARIZATION_LOSSES)\n",
    "            self.loss = tf.reduce_mean(tf.nn.sparse_softmax_cross_entropy_with_logits(labels=self.Y, logits=self.logits))\n",
    "            self.loss += tf.reduce_sum(reg_loss) # scalar\n",
    "            \n",
    "        # metric\n",
    "        self.pred = tf.nn.softmax(self.logits)\n",
    "        correct = tf.nn.in_top_k(predictions=self.logits, targets=self.Y, k=1)\n",
    "        self.accuracy = tf.reduce_mean(tf.cast(correct, dtype=tf.float32))\n",
    "        \n",
    "    # train and evaluation  \n",
    "    def fit(self, config, train_x, train_y, valid_x, valid_y, epoch, lr, b, dr, keep_prob=0.7, \n",
    "            save=False, SAVE_FILE='./models_mnist/model', log=False, LOG_DIR='./models_mnist'):\n",
    "        \"\"\"\n",
    "        hyper parameters\n",
    "        - epoch = 10\n",
    "        - lr = 0.001\n",
    "        - b = 150 # minibatch size\n",
    "        - dr = 0.97 # learning rate decay rate\n",
    "        - keep_prob = 0.7\n",
    "        \"\"\"\n",
    "        step = tf.get_variable(name=\"global_step\", shape=(), initializer=tf.zeros_initializer(), trainable=False)\n",
    "        # each decay_step, learning rate will be decreased by decay_rate\n",
    "        # decayed_learning_rate = learning_rate * decay_rate^(global_step / decay_steps) \n",
    "        lr = tf.train.exponential_decay(learning_rate=lr, global_step=step, decay_steps=100, decay_rate=dr, staircase=True)\n",
    "        optimizer = tf.train.AdamOptimizer(learning_rate=lr).minimize(self.loss, global_step=step)\n",
    "        \n",
    "        _, H, W = train_x.shape\n",
    "        \n",
    "        # save options \n",
    "        saver = tf.train.Saver(var_list=tf.get_collection(tf.GraphKeys.TRAINABLE_VARIABLES))\n",
    "        # saver = tf.train.Saver()\n",
    "        \n",
    "        # tensorboard visualization\n",
    "        if log:\n",
    "            train_loss = tf.get_variable(name='train_loss', shape=(), dtype=tf.float32, initializer=tf.zeros_initializer(), trainable=False)\n",
    "            valid_acc = tf.get_variable(name='valid_acc', shape=(), dtype=tf.float32, initializer=tf.zeros_initializer(), trainable=False)\n",
    "            train_loss_summ = tf.summary.scalar('train_loss', train_loss)\n",
    "            valid_acc_summ = tf.summary.scalar('valid_acc', valid_acc)\n",
    "            summ_op = tf.summary.merge([train_loss_summ, valid_acc_summ])\n",
    "        \n",
    "        with tf.Session(config=config) as sess:\n",
    "            # initialize all variables \n",
    "            sess.run(tf.global_variables_initializer())\n",
    "            # add graph to tensorboard\n",
    "            if log:\n",
    "                print(\"@terminal: $ tensorboard --logdir={}\".format(LOG_DIR))\n",
    "                writer = tf.summary.FileWriter(LOG_DIR, session=sess)\n",
    "                writer.add_graph(sess.graph)\n",
    "            # minibatch training \n",
    "            k = 0\n",
    "            for e in range(epoch):\n",
    "                loss_train = 0\n",
    "                for i, xy in tqdm(enumerate(get_minibatch(train_x, train_y, b)), desc='Train'):\n",
    "                    # minibatch dataset\n",
    "                    x, y = xy\n",
    "                    feed = {self.X: x, self.Y: y, self.dropout: keep_prob}\n",
    "                    loss_mini, _ = sess.run([self.loss, optimizer], feed_dict=feed)\n",
    "                    loss_train += loss_mini\n",
    "                loss_train = loss_train / (i+1)\n",
    "                \n",
    "                # evaluation\n",
    "                acc_valid = self.accuracy.eval(feed_dict={self.X: valid_x, self.Y: valid_y, self.dropout: 1})\n",
    "                print('epoch {} \\t| loss: {:.4f} \\t| acc_valid: {:.4f} \\t| lr: {:0.5} '.format(e+1, loss_train, acc_valid, lr.eval()))\n",
    "                if log:\n",
    "                    sess.run([train_loss.assign(loss_train), valid_acc.assign(acc_valid)])\n",
    "                    summary = sess.run(summ_op)\n",
    "                    writer.add_summary(summary, global_step=k)\n",
    "                    k += 1\n",
    "            print(\"Training End\")\n",
    "            if save: \n",
    "                saver.save(sess, SAVE_FILE)\n",
    "                print(\"save model @{}\".format(SAVE_FILE))\n",
    "    # restore model and evaluation\n",
    "    def test(self, config, test_x, test_y, SAVE_FILE='./models_mnist/model'):\n",
    "        \"\"\"\n",
    "        restore trained weights and evaluate a model\n",
    "        \"\"\"\n",
    "        saver = tf.train.Saver(var_list=tf.get_collection(tf.GraphKeys.TRAINABLE_VARIABLES))\n",
    "        # saver = tf.train.Saver()\n",
    "        \n",
    "        with tf.Session(config=config) as sess:\n",
    "            saver.restore(sess, SAVE_FILE)\n",
    "            print(\"restore is completed\")\n",
    "            acc_test = self.accuracy.eval(feed_dict={self.X: test_x, self.Y: test_y, self.dropout: 1})\n",
    "            print(\"acc_test: {}\".format(acc_test))\n",
    "            \n",
    "    def summary(self):\n",
    "        # print(\"=============================================\")\n",
    "        # print(\"list of all parameters\")\n",
    "        # print(\"=============================================\")\n",
    "        # for x in tf.global_variables():\n",
    "        #     print(x)\n",
    "        \n",
    "        print(\"=============================================\")\n",
    "        print(\"list of all trainable parameters\")\n",
    "        print(\"=============================================\")\n",
    "        for x in tf.get_collection(tf.GraphKeys.TRAINABLE_VARIABLES):\n",
    "            print(x)\n",
    "        \n",
    "        # print(\"=============================================\")\n",
    "        # print(\"list of parameters reflected regularization \")\n",
    "        # print(\"=============================================\")\n",
    "        # for x in tf.get_collection(tf.GraphKeys.REGULARIZATION_LOSSES):\n",
    "        #     print(x)"
   ]
  },
  {
   "cell_type": "code",
   "execution_count": 7,
   "metadata": {},
   "outputs": [
    {
     "name": "stderr",
     "output_type": "stream",
     "text": [
      "Train: 41it [00:00, 408.45it/s]"
     ]
    },
    {
     "name": "stdout",
     "output_type": "stream",
     "text": [
      "@terminal: $ tensorboard --logdir=./models_mnist\n"
     ]
    },
    {
     "name": "stderr",
     "output_type": "stream",
     "text": [
      "Train: 366it [00:00, 747.59it/s]\n",
      "Train: 86it [00:00, 855.52it/s]"
     ]
    },
    {
     "name": "stdout",
     "output_type": "stream",
     "text": [
      "epoch 1 \t| loss: 25.5607 \t| acc_valid: 0.9518 \t| lr: 0.00091267 \n"
     ]
    },
    {
     "name": "stderr",
     "output_type": "stream",
     "text": [
      "Train: 366it [00:00, 868.31it/s]\n",
      "Train: 79it [00:00, 783.49it/s]"
     ]
    },
    {
     "name": "stdout",
     "output_type": "stream",
     "text": [
      "epoch 2 \t| loss: 9.2745 \t| acc_valid: 0.9586 \t| lr: 0.00080798 \n"
     ]
    },
    {
     "name": "stderr",
     "output_type": "stream",
     "text": [
      "Train: 366it [00:00, 833.73it/s]\n",
      "Train: 86it [00:00, 858.29it/s]"
     ]
    },
    {
     "name": "stdout",
     "output_type": "stream",
     "text": [
      "epoch 3 \t| loss: 4.4781 \t| acc_valid: 0.9628 \t| lr: 0.00073742 \n"
     ]
    },
    {
     "name": "stderr",
     "output_type": "stream",
     "text": [
      "Train: 366it [00:00, 860.17it/s]\n",
      "Train: 84it [00:00, 830.40it/s]"
     ]
    },
    {
     "name": "stdout",
     "output_type": "stream",
     "text": [
      "epoch 4 \t| loss: 2.3403 \t| acc_valid: 0.9676 \t| lr: 0.00065284 \n"
     ]
    },
    {
     "name": "stderr",
     "output_type": "stream",
     "text": [
      "Train: 366it [00:00, 830.31it/s]\n",
      "Train: 85it [00:00, 840.95it/s]"
     ]
    },
    {
     "name": "stdout",
     "output_type": "stream",
     "text": [
      "epoch 5 \t| loss: 1.3452 \t| acc_valid: 0.9622 \t| lr: 0.00057795 \n"
     ]
    },
    {
     "name": "stderr",
     "output_type": "stream",
     "text": [
      "Train: 366it [00:00, 853.45it/s]\n",
      "Train: 83it [00:00, 827.82it/s]"
     ]
    },
    {
     "name": "stdout",
     "output_type": "stream",
     "text": [
      "epoch 6 \t| loss: 0.8565 \t| acc_valid: 0.9692 \t| lr: 0.00052748 \n"
     ]
    },
    {
     "name": "stderr",
     "output_type": "stream",
     "text": [
      "Train: 366it [00:00, 812.75it/s]\n",
      "Train: 84it [00:00, 837.99it/s]"
     ]
    },
    {
     "name": "stdout",
     "output_type": "stream",
     "text": [
      "epoch 7 \t| loss: 0.6022 \t| acc_valid: 0.9724 \t| lr: 0.00046698 \n"
     ]
    },
    {
     "name": "stderr",
     "output_type": "stream",
     "text": [
      "Train: 366it [00:00, 848.15it/s]\n",
      "Train: 88it [00:00, 873.64it/s]"
     ]
    },
    {
     "name": "stdout",
     "output_type": "stream",
     "text": [
      "epoch 8 \t| loss: 0.4669 \t| acc_valid: 0.9738 \t| lr: 0.00041341 \n"
     ]
    },
    {
     "name": "stderr",
     "output_type": "stream",
     "text": [
      "Train: 366it [00:00, 853.43it/s]\n",
      "Train: 86it [00:00, 859.78it/s]"
     ]
    },
    {
     "name": "stdout",
     "output_type": "stream",
     "text": [
      "epoch 9 \t| loss: 0.3802 \t| acc_valid: 0.9734 \t| lr: 0.00037731 \n"
     ]
    },
    {
     "name": "stderr",
     "output_type": "stream",
     "text": [
      "Train: 366it [00:00, 867.04it/s]"
     ]
    },
    {
     "name": "stdout",
     "output_type": "stream",
     "text": [
      "epoch 10 \t| loss: 0.3290 \t| acc_valid: 0.9764 \t| lr: 0.00033403 \n",
      "Training End\n",
      "save model @./models_mnist/model\n",
      "=============================================\n",
      "list of all trainable parameters\n",
      "=============================================\n",
      "<tf.Variable 'FC/fully_connected/weights:0' shape=(784, 1024) dtype=float32_ref>\n",
      "<tf.Variable 'FC/fully_connected/biases:0' shape=(1024,) dtype=float32_ref>\n",
      "<tf.Variable 'FC/fully_connected_1/weights:0' shape=(1024, 10) dtype=float32_ref>\n",
      "<tf.Variable 'FC/fully_connected_1/biases:0' shape=(10,) dtype=float32_ref>\n",
      "INFO:tensorflow:Restoring parameters from ./models_mnist/model\n"
     ]
    },
    {
     "name": "stderr",
     "output_type": "stream",
     "text": [
      "\n"
     ]
    },
    {
     "name": "stdout",
     "output_type": "stream",
     "text": [
      "restore is completed\n",
      "acc_test: 0.9732000231742859\n"
     ]
    }
   ],
   "source": [
    "tf.reset_default_graph()\n",
    "_, H, W = train_x.shape\n",
    "model = Model(H=H, W=W, HD=1024, L=10, beta=0.1)\n",
    "model.fit(conf, train_x, train_y, valid_x, valid_y, epoch=10, lr=0.001, b=150, dr=0.97, keep_prob=0.7, save=True, log=True)\n",
    "model.summary()\n",
    "model.test(conf, test_x, test_y)"
   ]
  },
  {
   "cell_type": "markdown",
   "metadata": {},
   "source": [
    "## keras module\n",
    "[official guide](https://github.com/tensorflow/docs/tree/master/site/en/r1)"
   ]
  },
  {
   "cell_type": "code",
   "execution_count": 8,
   "metadata": {},
   "outputs": [],
   "source": [
    "from tensorflow import keras"
   ]
  },
  {
   "cell_type": "code",
   "execution_count": 9,
   "metadata": {},
   "outputs": [],
   "source": [
    "_, H, W = train_x.shape"
   ]
  },
  {
   "cell_type": "code",
   "execution_count": 10,
   "metadata": {},
   "outputs": [],
   "source": [
    "model = keras.Sequential([keras.layers.Flatten(input_shape=(W,H)), \n",
    "                          keras.layers.Dense(units=128, activation='relu'), \n",
    "                          keras.layers.Dense(units=10, activation='softmax')])"
   ]
  },
  {
   "cell_type": "code",
   "execution_count": 11,
   "metadata": {},
   "outputs": [],
   "source": [
    "model.compile(optimizer='adam', loss='sparse_categorical_crossentropy', metrics=['accuracy'])"
   ]
  },
  {
   "cell_type": "code",
   "execution_count": 12,
   "metadata": {},
   "outputs": [
    {
     "name": "stdout",
     "output_type": "stream",
     "text": [
      "Epoch 1/5\n",
      "55000/55000 [==============================] - 1s 12us/step - loss: 7.7569 - acc: 0.5149\n",
      "Epoch 2/5\n",
      "55000/55000 [==============================] - 1s 9us/step - loss: 7.1076 - acc: 0.5572\n",
      "Epoch 3/5\n",
      "55000/55000 [==============================] - 0s 9us/step - loss: 7.0159 - acc: 0.5634\n",
      "Epoch 4/5\n",
      "55000/55000 [==============================] - 1s 9us/step - loss: 6.8691 - acc: 0.5725\n",
      "Epoch 5/5\n",
      "55000/55000 [==============================] - 0s 9us/step - loss: 4.5552 - acc: 0.7147\n",
      "_________________________________________________________________\n",
      "Layer (type)                 Output Shape              Param #   \n",
      "=================================================================\n",
      "flatten_1 (Flatten)          (None, 784)               0         \n",
      "_________________________________________________________________\n",
      "dense (Dense)                (None, 128)               100480    \n",
      "_________________________________________________________________\n",
      "dense_1 (Dense)              (None, 10)                1290      \n",
      "=================================================================\n",
      "Total params: 101,770\n",
      "Trainable params: 101,770\n",
      "Non-trainable params: 0\n",
      "_________________________________________________________________\n",
      "10000/10000 [==============================] - 0s 23us/step\n",
      "[4.017395917129517, 0.7487]\n"
     ]
    }
   ],
   "source": [
    "history = model.fit(x=train_x, y=train_y, batch_size=150, epochs=5, verbose=1)\n",
    "# history_dict = history.history\n",
    "# for key, values in history_dict.items():\n",
    "#     print(key, values)\n",
    "model.summary()\n",
    "results = model.evaluate(x=test_x, y=test_y, verbose=1)\n",
    "print(results)"
   ]
  },
  {
   "cell_type": "markdown",
   "metadata": {},
   "source": [
    "### customize keras\n",
    "[official tutorial document](https://www.tensorflow.org/tutorials/quickstart/advanced?hl=ko)  \n",
    "[official tutorial korean](https://www.tensorflow.org/guide/keras/overview)  \n",
    "[korean tutorial blog](https://hwiyong.tistory.com/category/%23%20Machine%20Learning/tensorflow2.0%28keras%29?page=3)  \n",
    "how to use tf.data.Dataset? [blog](https://cyc1am3n.github.io/2018/09/13/how-to-use-dataset-in-tensorflow.html)"
   ]
  },
  {
   "cell_type": "code",
   "execution_count": 13,
   "metadata": {},
   "outputs": [],
   "source": [
    "from tensorflow.keras import Model\n",
    "from tensorflow.keras.layers import Dense, Flatten, Conv2D"
   ]
  },
  {
   "cell_type": "code",
   "execution_count": 14,
   "metadata": {},
   "outputs": [],
   "source": [
    "class MyModel(Model):\n",
    "    def __init__(self):\n",
    "        super(MyModel, self).__init__()\n",
    "        self.flat = Flatten()\n",
    "        self.d1 = Dense(units=128, activation='relu')\n",
    "        self.d2 = Dense(units=10, activation='softmax')\n",
    "    \n",
    "    # overriding \n",
    "    def call(self, x):\n",
    "        \"\"\"\n",
    "        params: \n",
    "        - x: inputs \n",
    "        return: predictions\n",
    "        \"\"\"\n",
    "        x = self.d2(self.d1(self.flat(x)))\n",
    "        return x"
   ]
  },
  {
   "cell_type": "code",
   "execution_count": 15,
   "metadata": {},
   "outputs": [
    {
     "name": "stdout",
     "output_type": "stream",
     "text": [
      "Epoch 1/5\n",
      "55000/55000 [==============================] - 1s 12us/step - loss: 8.4169 - acc: 0.4746\n",
      "Epoch 2/5\n",
      "55000/55000 [==============================] - 1s 9us/step - loss: 5.4280 - acc: 0.6607\n",
      "Epoch 3/5\n",
      "55000/55000 [==============================] - 1s 10us/step - loss: 4.3786 - acc: 0.7257\n",
      "Epoch 4/5\n",
      "55000/55000 [==============================] - 0s 9us/step - loss: 4.1553 - acc: 0.7399\n",
      "Epoch 5/5\n",
      "55000/55000 [==============================] - 1s 9us/step - loss: 4.1131 - acc: 0.7431\n",
      "_________________________________________________________________\n",
      "Layer (type)                 Output Shape              Param #   \n",
      "=================================================================\n",
      "flatten_2 (Flatten)          multiple                  0         \n",
      "_________________________________________________________________\n",
      "dense_2 (Dense)              multiple                  100480    \n",
      "_________________________________________________________________\n",
      "dense_3 (Dense)              multiple                  1290      \n",
      "=================================================================\n",
      "Total params: 101,770\n",
      "Trainable params: 101,770\n",
      "Non-trainable params: 0\n",
      "_________________________________________________________________\n",
      "10000/10000 [==============================] - 0s 23us/step\n",
      "[3.925171082305908, 0.7546]\n"
     ]
    }
   ],
   "source": [
    "model = MyModel()\n",
    "model.compile(optimizer='adam', \n",
    "              loss=tf.keras.losses.sparse_categorical_crossentropy, \n",
    "              metrics=['accuracy'])\n",
    "history = model.fit(x=train_x, y=train_y, batch_size=150, epochs=5, verbose=1)\n",
    "# history_dict = history.history\n",
    "# for key, values in history_dict.items():\n",
    "#     print(key, values)\n",
    "model.summary()\n",
    "results = model.evaluate(x=test_x, y=test_y, verbose=1)\n",
    "print(results)"
   ]
  },
  {
   "cell_type": "code",
   "execution_count": 16,
   "metadata": {},
   "outputs": [
    {
     "name": "stdout",
     "output_type": "stream",
     "text": [
      "WARNING:tensorflow:This model was compiled with a Keras optimizer (<tensorflow.python.keras.optimizers.Adam object at 0x7ff4a045ab70>) but is being saved in TensorFlow format with `save_weights`. The model's weights will be saved, but unlike with TensorFlow optimizers in the TensorFlow format the optimizer's state will not be saved.\n",
      "\n",
      "Consider using a TensorFlow optimizer from `tf.train`.\n",
      "10000/10000 [==============================] - 0s 17us/step\n"
     ]
    },
    {
     "data": {
      "text/plain": [
       "[3.925171082305908, 0.7546]"
      ]
     },
     "execution_count": 16,
     "metadata": {},
     "output_type": "execute_result"
    }
   ],
   "source": [
    "model.save_weights('./models_mnist/model')\n",
    "model.load_weights('./models_mnist/model')\n",
    "results = model.evaluate(x=test_x, y=test_y, verbose=1)\n",
    "results"
   ]
  },
  {
   "cell_type": "markdown",
   "metadata": {},
   "source": [
    "# pytorch\n",
    "\n",
    "- korean blog [basic](https://tutorials.pytorch.kr/beginner/pytorch_with_examples.html) [advanced](https://greeksharifa.github.io/pytorch/2018/11/10/pytorch-usage-03-How-to-Use-PyTorch/)  \n",
    "[swyoo simplified version](https://nbviewer.jupyter.org/github/SUNGWOOKYOO/practice/blob/master/pytorch.ipynb)  \n",
    "[official document](https://pytorch.org/docs/0.4.0/)  \n"
   ]
  },
  {
   "cell_type": "code",
   "execution_count": 1,
   "metadata": {},
   "outputs": [
    {
     "data": {
      "text/plain": [
       "'0.4.0'"
      ]
     },
     "execution_count": 1,
     "metadata": {},
     "output_type": "execute_result"
    }
   ],
   "source": [
    "import torch\n",
    "torch.__version__"
   ]
  },
  {
   "cell_type": "code",
   "execution_count": 17,
   "metadata": {},
   "outputs": [],
   "source": [
    "class MyModel(torch.nn.Module):\n",
    "    def __init__(self, D_in, H, D_out):\n",
    "        \"\"\"\n",
    "        생성자에서 2개의 nn.Linear 모듈을 생성하고, 멤버 변수로 지정합니다.\n",
    "        \"\"\"\n",
    "        super(MyModel, self).__init__()\n",
    "        self.linear1 = torch.nn.Linear(D_in, H)\n",
    "        self.linear2 = torch.nn.Linear(H, D_out)\n",
    "\n",
    "    def forward(self, x):\n",
    "        \"\"\"\n",
    "        순전파 함수에서는 입력 데이터의 Tensor를 받고 출력 데이터의 Tensor를\n",
    "        반환해야 합니다. Tensor 상의 임의의 연산자뿐만 아니라 생성자에서 정의한\n",
    "        Module도 사용할 수 있습니다.\n",
    "        \"\"\"\n",
    "        h_relu = torch.nn.functional.relu(self.linear1(x))\n",
    "        y_pred = self.linear2(h_relu)\n",
    "        return y_pred"
   ]
  },
  {
   "cell_type": "code",
   "execution_count": 18,
   "metadata": {},
   "outputs": [
    {
     "name": "stdout",
     "output_type": "stream",
     "text": [
      "cuda is available\n"
     ]
    }
   ],
   "source": [
    "# N은 배치 크기이며, D_in은 입력의 차원입니다;\n",
    "# H는 은닉층의 차원이며, D_out은 출력 차원입니다.\n",
    "N, D_in, H, D_out = 64, 1000, 100, 10\n",
    "\n",
    "# 입력과 출력을 저장하기 위해 무작위 값을 갖는 Tensor를 생성합니다.\n",
    "x = torch.randn(N, D_in)\n",
    "y = torch.randn(N, D_out)\n",
    "\n",
    "# 앞에서 정의한 클래스를 생성하여 모델을 구성합니다.\n",
    "model = MyModel(D_in, H, D_out)\n",
    "\n",
    "# GPU를 사용하고 싶은경우 \n",
    "if torch.cuda.is_available():\n",
    "    x = x.cuda()\n",
    "    y = y.cuda()\n",
    "    model = model.cuda()\n",
    "    print('cuda is available')\n",
    "\n",
    "# 손실 함수와 Optimizer를 만듭니다. SGD 생성자에 model.parameters()를 호출하면\n",
    "# 모델의 멤버인 2개의 nn.Linear 모듈의 학습 가능한 매개변수들이 포함됩니다.\n",
    "criterion = torch.nn.MSELoss(size_average=False, reduce=True)\n",
    "optimizer = torch.optim.SGD(model.parameters(), lr=1e-4)"
   ]
  },
  {
   "cell_type": "code",
   "execution_count": 19,
   "metadata": {},
   "outputs": [
    {
     "name": "stdout",
     "output_type": "stream",
     "text": [
      "0 661.175048828125\n",
      "100 2.600653648376465\n",
      "200 0.04426896944642067\n",
      "300 0.0014514968497678638\n",
      "400 6.26491237198934e-05\n"
     ]
    }
   ],
   "source": [
    "for t in range(500):\n",
    "    # 순전파 단계: 모델에 x를 전달하여 예상되는 y 값을 계산합니다.\n",
    "    y_pred = model(x)\n",
    "\n",
    "    # 손실을 계산하고 출력합니다.\n",
    "    loss = criterion(y_pred, y)\n",
    "    if t%100==0: print(t, loss.item())\n",
    "\n",
    "    # 변화도를 0으로 만들고, 역전파 단계를 수행하고, 가중치를 갱신합니다.\n",
    "    optimizer.zero_grad()\n",
    "    loss.backward()\n",
    "    optimizer.step()"
   ]
  },
  {
   "cell_type": "markdown",
   "metadata": {},
   "source": [
    "[furthermore](https://www.kaggle.com/sdelecourt/cnn-with-pytorch-for-mnist)"
   ]
  }
 ],
 "metadata": {
  "kernelspec": {
   "display_name": "swyoo_dl",
   "language": "python",
   "name": "swyoo_dl"
  },
  "language_info": {
   "codemirror_mode": {
    "name": "ipython",
    "version": 3
   },
   "file_extension": ".py",
   "mimetype": "text/x-python",
   "name": "python",
   "nbconvert_exporter": "python",
   "pygments_lexer": "ipython3",
   "version": "3.6.9"
  }
 },
 "nbformat": 4,
 "nbformat_minor": 4
}

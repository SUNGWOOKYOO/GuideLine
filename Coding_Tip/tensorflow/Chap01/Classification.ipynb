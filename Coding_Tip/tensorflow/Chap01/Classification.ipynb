{
 "cells": [
  {
   "cell_type": "code",
   "execution_count": 1,
   "metadata": {},
   "outputs": [
    {
     "name": "stdout",
     "output_type": "stream",
     "text": [
      "python is /home/swyoo/anaconda3/envs/ts20/bin/python\n",
      "3.7.5\n"
     ]
    },
    {
     "data": {
      "text/plain": [
       "'2.0.0'"
      ]
     },
     "execution_count": 1,
     "metadata": {},
     "output_type": "execute_result"
    }
   ],
   "source": [
    "!type python\n",
    "from platform import python_version\n",
    "import tensorflow as tf\n",
    "print(python_version())\n",
    "tf.__version__"
   ]
  },
  {
   "cell_type": "code",
   "execution_count": 2,
   "metadata": {},
   "outputs": [],
   "source": [
    "from __future__ import absolute_import, division, print_function, unicode_literals\n",
    "import os, sys\n",
    "import matplotlib.pyplot as plt"
   ]
  },
  {
   "cell_type": "code",
   "execution_count": 3,
   "metadata": {},
   "outputs": [
    {
     "name": "stdout",
     "output_type": "stream",
     "text": [
      "[VirtualDeviceConfiguration(memory_limit=2048)]\n"
     ]
    }
   ],
   "source": [
    "gpus = tf.config.experimental.list_physical_devices('GPU')\n",
    "# GPU 메모리 제한하기\n",
    "MEMORY_LIMIT_CONFIG = [tf.config.experimental.VirtualDeviceConfiguration(memory_limit=2048)]\n",
    "print(MEMORY_LIMIT_CONFIG)\n",
    "tf.config.experimental.set_virtual_device_configuration(gpus[0], MEMORY_LIMIT_CONFIG)"
   ]
  },
  {
   "cell_type": "code",
   "execution_count": 4,
   "metadata": {},
   "outputs": [],
   "source": [
    "# helper function for print\n",
    "def print_progress(epoch, max_epoch, step, max_step, loss, etc):\n",
    "    \"\"\" print progressive states \"\"\"\n",
    "    # Status-message. Note the \\r which means the line should\n",
    "    # overwrite itself.\n",
    "    msg = \"\\r Train Phase - epoch: {0:}/{1:} |step: {2:}/{3:} |loss: {4:.3f} |etc: {5:}\".format(epoch, max_epoch, step, max_step, loss, etc)\n",
    "    # Print it.\n",
    "    sys.stdout.write(msg)\n",
    "    sys.stdout.flush() "
   ]
  },
  {
   "cell_type": "markdown",
   "metadata": {},
   "source": [
    "# Classfication of Iris \n",
    "\n",
    "이번 튜토리얼에서는 오직 3가지 품종을 기준으로 분류할 것임.  \n",
    "`Iris setosa, Iris virginica,Iris versicolor`  \n",
    "[Dataset](https://www.wikiwand.com/en/Iris_flower_data_set) :꽃받침과 꽃잎의 길이와 폭이 측정된 120개의 붓꽃 데이터"
   ]
  },
  {
   "cell_type": "markdown",
   "metadata": {},
   "source": [
    "**Parsing dataset**"
   ]
  },
  {
   "cell_type": "code",
   "execution_count": 5,
   "metadata": {},
   "outputs": [
    {
     "name": "stdout",
     "output_type": "stream",
     "text": [
      "데이터셋이 복사된 위치: /home/swyoo/.keras/datasets/iris_training.csv\n"
     ]
    }
   ],
   "source": [
    "# tf.keras.utils.get_file 함수를 사용하여 데이터셋을 다운로드\n",
    "train_dataset_url = \"https://storage.googleapis.com/download.tensorflow.org/data/iris_training.csv\"\n",
    "train_dataset_fp = tf.keras.utils.get_file(fname=os.path.basename(train_dataset_url),\n",
    "                                           origin=train_dataset_url)\n",
    "print(\"데이터셋이 복사된 위치: {}\".format(train_dataset_fp))"
   ]
  },
  {
   "cell_type": "markdown",
   "metadata": {},
   "source": [
    "**Exploration**  \n",
    "1. 첫 번째 줄은 다음과 같은 정보를 포함하고 있는 헤더(header)입니다.  \n",
    "    총 120개의 샘플이 있으며, 각 샘플들은 4개의 특성(feature), 3개의 레이블(label)을 가지고 있습니다.  \n",
    "2. 후속행은 데이터 레코드입니다. 한 줄당 한 개의 샘플 입니다.  \n",
    "    * 처음 4개의 필드는 특성 입니다.: 이것들은 샘플의 특징을 나타냅니다. 이 필드들는 붓꽃의 측정값을 부동소수점으로 나타냅니다.  \n",
    "    * 마지막 컬럼(column)은 레이블(label) 입니다.: 레이블은 예측하고자 하는 값을 나타냅니다. 이 데이터셋에서는 꽃의 이름과 관련된 정수값 0, 1, 2를 나타냅니다.  "
   ]
  },
  {
   "cell_type": "code",
   "execution_count": 6,
   "metadata": {},
   "outputs": [
    {
     "name": "stdout",
     "output_type": "stream",
     "text": [
      "120,4,setosa,versicolor,virginica\n",
      "6.4,2.8,5.6,2.2,2\n",
      "5.0,2.3,3.3,1.0,1\n"
     ]
    }
   ],
   "source": [
    "# 총 120개의 샘플이 있으며, 각 샘플들은 4개의 특성(feature), 3개의 레이블(label)\n",
    "!head -n3 {train_dataset_fp}"
   ]
  },
  {
   "cell_type": "code",
   "execution_count": 7,
   "metadata": {},
   "outputs": [
    {
     "name": "stdout",
     "output_type": "stream",
     "text": [
      "propery: ['sepal_length', 'sepal_width', 'petal_length', 'petal_width']\n",
      "label: species\n"
     ]
    }
   ],
   "source": [
    "# CSV 파일안에서 컬럼의 순서\n",
    "column_names = ['sepal_length', 'sepal_width', 'petal_length', 'petal_width', 'species']\n",
    "feature_names = column_names[:-1]\n",
    "label_name = column_names[-1]\n",
    "print(\"propery: {}\".format(feature_names))\n",
    "print(\"label: {}\".format(label_name))\n",
    "# mapping class labels \n",
    "class_names = ['Iris setosa', 'Iris versicolor', 'Iris virginica']"
   ]
  },
  {
   "cell_type": "markdown",
   "metadata": {},
   "source": [
    "**Generate tf.data.Dataset**\n",
    "\n",
    "데이터셋이 CSV 파일이므로, 적절한 형태로 데이터를 구분하기 위해 `make_csv_dataset` 함수를 사용  \n",
    "`make_csv_dataset` 함수는 `(features, label)` 쌍으로 구성된 `tf.data.Dataset`을 반환합니다.   \n",
    "`features`는 딕셔너리 객체인: `{'feature_name': value}`로 주어집니다. 이 데이터셋은 반복가능합니다."
   ]
  },
  {
   "cell_type": "code",
   "execution_count": 8,
   "metadata": {},
   "outputs": [
    {
     "name": "stdout",
     "output_type": "stream",
     "text": [
      "WARNING:tensorflow:From /home/swyoo/anaconda3/envs/ts20/lib/python3.7/site-packages/tensorflow_core/python/data/experimental/ops/readers.py:521: parallel_interleave (from tensorflow.python.data.experimental.ops.interleave_ops) is deprecated and will be removed in a future version.\n",
      "Instructions for updating:\n",
      "Use `tf.data.Dataset.interleave(map_func, cycle_length, block_length, num_parallel_calls=tf.data.experimental.AUTOTUNE)` instead. If sloppy execution is desired, use `tf.data.Options.experimental_determinstic`.\n"
     ]
    }
   ],
   "source": [
    "BATCH_SIZE = 32\n",
    "EPOCHS = 1\n",
    "\n",
    "train_dataset = tf.data.experimental.make_csv_dataset(train_dataset_fp,\n",
    "                                                      BATCH_SIZE,\n",
    "                                                      column_names=column_names,\n",
    "                                                      label_name=label_name,\n",
    "                                                      num_epochs=EPOCHS)"
   ]
  },
  {
   "cell_type": "code",
   "execution_count": 9,
   "metadata": {},
   "outputs": [
    {
     "name": "stdout",
     "output_type": "stream",
     "text": [
      "OrderedDict([('sepal_length', <tf.Tensor: id=68, shape=(32,), dtype=float32, numpy=\n",
      "array([5.7, 6.9, 6.8, 6.3, 6. , 5. , 6.5, 6.7, 6.4, 5.8, 5.6, 6.1, 4.9,\n",
      "       6.2, 7.7, 4.9, 6.1, 7.2, 7.4, 4.4, 5.8, 5.4, 4.9, 5. , 5.6, 5.7,\n",
      "       5.7, 7.2, 7.2, 5. , 5.8, 6.8], dtype=float32)>), ('sepal_width', <tf.Tensor: id=69, shape=(32,), dtype=float32, numpy=\n",
      "array([3.8, 3.1, 3. , 3.3, 2.9, 3.6, 3. , 3.3, 2.8, 2.7, 2.7, 2.6, 3.1,\n",
      "       3.4, 2.6, 2.4, 2.8, 3.6, 2.8, 3.2, 2.7, 3.9, 3.1, 3.5, 2.9, 4.4,\n",
      "       3. , 3. , 3.2, 3.4, 2.8, 2.8], dtype=float32)>), ('petal_length', <tf.Tensor: id=66, shape=(32,), dtype=float32, numpy=\n",
      "array([1.7, 4.9, 5.5, 4.7, 4.5, 1.4, 5.2, 5.7, 5.6, 5.1, 4.2, 5.6, 1.5,\n",
      "       5.4, 6.9, 3.3, 4. , 6.1, 6.1, 1.3, 5.1, 1.3, 1.5, 1.6, 3.6, 1.5,\n",
      "       4.2, 5.8, 6. , 1.5, 5.1, 4.8], dtype=float32)>), ('petal_width', <tf.Tensor: id=67, shape=(32,), dtype=float32, numpy=\n",
      "array([0.3, 1.5, 2.1, 1.6, 1.5, 0.2, 2. , 2.1, 2.2, 1.9, 1.3, 1.4, 0.1,\n",
      "       2.3, 2.3, 1. , 1.3, 2.5, 1.9, 0.2, 1.9, 0.4, 0.1, 0.6, 1.3, 0.4,\n",
      "       1.2, 1.6, 1.8, 0.2, 2.4, 1.4], dtype=float32)>)])\n"
     ]
    }
   ],
   "source": [
    "# feature 들은 dictionary로 되어있는 tensor들이므로 dictionary를 묶어주는 작업 필요\n",
    "features, labels = next(iter(train_dataset))\n",
    "print(features)"
   ]
  },
  {
   "cell_type": "code",
   "execution_count": 10,
   "metadata": {},
   "outputs": [
    {
     "name": "stdout",
     "output_type": "stream",
     "text": [
      "tf.Tensor([0 1 2 1 1 0 2 2 2 2 1 2 0 2 2 1 1 2 2 0 2 0 0 0 1 0 1 2 2 0 2 1], shape=(32,), dtype=int32)\n"
     ]
    }
   ],
   "source": [
    "print(labels)"
   ]
  },
  {
   "cell_type": "code",
   "execution_count": 11,
   "metadata": {},
   "outputs": [
    {
     "data": {
      "image/png": "[encoded data removed]",
      "text/plain": [
       "<Figure size 432x288 with 1 Axes>"
      ]
     },
     "metadata": {
      "needs_background": "light"
     },
     "output_type": "display_data"
    }
   ],
   "source": [
    "# visualization\n",
    "plt.scatter(features['petal_length'],\n",
    "            features['sepal_length'],\n",
    "            c=labels,\n",
    "            cmap='viridis')\n",
    "\n",
    "plt.xlabel(\"Petal length\")\n",
    "plt.ylabel(\"Sepal length\")\n",
    "plt.show()"
   ]
  },
  {
   "cell_type": "code",
   "execution_count": 12,
   "metadata": {},
   "outputs": [
    {
     "data": {
      "text/plain": [
       "(OrderedDict([('sepal_length',\n",
       "               TensorSpec(shape=(None,), dtype=tf.float32, name=None)),\n",
       "              ('sepal_width',\n",
       "               TensorSpec(shape=(None,), dtype=tf.float32, name=None)),\n",
       "              ('petal_length',\n",
       "               TensorSpec(shape=(None,), dtype=tf.float32, name=None)),\n",
       "              ('petal_width',\n",
       "               TensorSpec(shape=(None,), dtype=tf.float32, name=None))]),\n",
       " TensorSpec(shape=(None,), dtype=tf.int32, name=None))"
      ]
     },
     "execution_count": 12,
     "metadata": {},
     "output_type": "execute_result"
    }
   ],
   "source": [
    "train_dataset.element_spec"
   ]
  },
  {
   "cell_type": "code",
   "execution_count": 13,
   "metadata": {},
   "outputs": [],
   "source": [
    "# feature 들은 dictionary로 되어있는 tensor들이므로 dictionary를 minibatch 별로 묶어주는 작업 필요\n",
    "# map 함수를 이용한다.\n",
    "def pack_features_vector(features, labels):\n",
    "    \"\"\" 미니배치 크기의 특성들을 묶는함수.\"\"\"\n",
    "    features = tf.stack(list(features.values()), axis=1)\n",
    "    return features, labels\n",
    "\n",
    "train_dataset = train_dataset.map(map_func=pack_features_vector)"
   ]
  },
  {
   "cell_type": "code",
   "execution_count": 14,
   "metadata": {},
   "outputs": [
    {
     "data": {
      "text/plain": [
       "(TensorSpec(shape=(None, 4), dtype=tf.float32, name=None),\n",
       " TensorSpec(shape=(None,), dtype=tf.int32, name=None))"
      ]
     },
     "execution_count": 14,
     "metadata": {},
     "output_type": "execute_result"
    }
   ],
   "source": [
    "# check \n",
    "train_dataset.element_spec"
   ]
  },
  {
   "cell_type": "code",
   "execution_count": 15,
   "metadata": {},
   "outputs": [
    {
     "data": {
      "text/plain": [
       "TensorShape([32, 4])"
      ]
     },
     "execution_count": 15,
     "metadata": {},
     "output_type": "execute_result"
    }
   ],
   "source": [
    "# check \n",
    "features, labels = next(iter(train_dataset))\n",
    "features.shape"
   ]
  },
  {
   "cell_type": "markdown",
   "metadata": {},
   "source": [
    "[detail tutorial for creating customized model](https://www.tensorflow.org/guide/keras/custom_layers_and_models?hl=ko)  \n",
    "build 함수가 꼭 있어야한다.  \n",
    "추정하기로는 Dense 함수는 내부에 build함수가 구현되어있지 않아 lazy 한 weight생성을 하지 않는것 같다."
   ]
  },
  {
   "cell_type": "code",
   "execution_count": 16,
   "metadata": {},
   "outputs": [
    {
     "data": {
      "text/plain": [
       "<function tensorflow.python.keras.engine.network.Network.build(self, input_shape)>"
      ]
     },
     "execution_count": 16,
     "metadata": {},
     "output_type": "execute_result"
    }
   ],
   "source": [
    "tf.keras.Model.build"
   ]
  },
  {
   "cell_type": "markdown",
   "metadata": {},
   "source": [
    "이 3가지 표현 모두 동일하게 작동한다.\n",
    "```python\n",
    "self.D1 = tf.keras.layers.Dense(units=10, activation=tf.nn.relu, input_shape=(None, input_shape[-1]))\n",
    "self.D1 = tf.keras.layers.Dense(units=10, activation=tf.nn.relu, input_shape=(input_shape[-1], ))\n",
    "self.D1 = tf.keras.layers.Dense(units=10, activation=tf.nn.relu)\n",
    "```"
   ]
  },
  {
   "cell_type": "code",
   "execution_count": 17,
   "metadata": {},
   "outputs": [],
   "source": [
    "class Model(tf.keras.Model):\n",
    "    def __init__(self):\n",
    "        super(Model, self).__init__(name='swyoo')\n",
    "        \n",
    "    def build(self, input_shape):\n",
    "        \"\"\" when call fucntion is called, all weights will be created. \n",
    "            Also, input_shape can be input_tensor.shape automatically! \n",
    "            so, input_shape = input_tensor.shape \"\"\"\n",
    "        # self.D1 = tf.keras.layers.Dense(units=10, activation=tf.nn.relu, input_shape=(None, input_shape[-1]))\n",
    "        # self.D1 = tf.keras.layers.Dense(units=10, activation=tf.nn.relu, input_shape=(input_shape[-1], ))\n",
    "        # automatically catch the input's shape\n",
    "        self.D1 = tf.keras.layers.Dense(units=10, activation=tf.nn.relu)\n",
    "        self.D2 = tf.keras.layers.Dense(10, activation=tf.nn.relu)\n",
    "        self.D3 = tf.keras.layers.Dense(3)\n",
    "        \n",
    "    def call(self, input_tensor):\n",
    "        \"\"\" \n",
    "        Args: \n",
    "            input_tensor.shpae=[examples, 4] \n",
    "        Returns: output.shape=[eaxmples, 3]\n",
    "        \"\"\"\n",
    "        x = self.D1(input_tensor)\n",
    "        x = self.D2(x)\n",
    "        x = self.D3(x)\n",
    "        return x\n",
    "    \n",
    "model = Model()\n",
    "\n",
    "# model = tf.keras.Sequential([tf.keras.layers.Dense(10, activation=tf.nn.relu, input_shape=(4,)),  # 입력의 형태가 필요합니다.\n",
    "#                              tf.keras.layers.Dense(10, activation=tf.nn.relu),\n",
    "#                              tf.keras.layers.Dense(3)])"
   ]
  },
  {
   "cell_type": "code",
   "execution_count": 18,
   "metadata": {},
   "outputs": [
    {
     "data": {
      "text/plain": [
       "<tf.Tensor: id=200, shape=(2, 3), dtype=float32, numpy=\n",
       "array([[-1.9688914 ,  1.7115858 , -0.36923853],\n",
       "       [-2.6221304 ,  2.2794561 , -0.49174452]], dtype=float32)>"
      ]
     },
     "execution_count": 18,
     "metadata": {},
     "output_type": "execute_result"
    }
   ],
   "source": [
    "predictions = model(features)\n",
    "predictions[:2]"
   ]
  },
  {
   "cell_type": "markdown",
   "metadata": {},
   "source": [
    "**Train Phase**\n",
    "\n",
    "`SparseCategoricalCrossentropy(from_logits=True)` 의미하는 것은\n",
    "1. `Sparse*`이면 y_true는 label index를 준다.\n",
    "2. `from_logits`이면 y_pred는 logits값이고 내부에서 activation 적용된다.\n",
    "3. `Categorical`이면 label class가 binary가 아닌 muti-class 상황이다.  \n",
    "\n",
    "b = `BATCH_SIZE`, i = a index of an example\n",
    "$$\n",
    "loss = \\frac{1}{b}\\sum^b_i{\\mathbf{Y_i}\\odot log(\\mathbf{\\hat{Y_i}})}\n",
    "$$"
   ]
  },
  {
   "cell_type": "code",
   "execution_count": 19,
   "metadata": {},
   "outputs": [
    {
     "name": "stdout",
     "output_type": "stream",
     "text": [
      "test for loss: 2.25604248046875\n"
     ]
    }
   ],
   "source": [
    "loss_object = tf.keras.losses.SparseCategoricalCrossentropy(from_logits=True)\n",
    "def loss_function(model, X, Y):\n",
    "    \"\"\" del.call 함수에 의한 logit을 구하여 loss를 계산한다.\n",
    "    Args:\n",
    "        X: (minibatch, 4)\n",
    "        Y: (minibatch, )\n",
    "    Params:\n",
    "        logits: (minibatch, 3)\n",
    "    \"\"\"\n",
    "    logits = model(X)\n",
    "    return loss_object(y_true=Y, y_pred=logits)\n",
    "\n",
    "l = loss_function(model, features, labels)\n",
    "print(\"test for loss: {}\".format(l)) # inital loss"
   ]
  },
  {
   "cell_type": "code",
   "execution_count": 20,
   "metadata": {},
   "outputs": [],
   "source": [
    "optimizer = tf.keras.optimizers.Adam(learning_rate=0.005)"
   ]
  },
  {
   "cell_type": "code",
   "execution_count": 21,
   "metadata": {},
   "outputs": [],
   "source": [
    "def train_step(model, x, y, optimizer):\n",
    "    ##################################################################################\n",
    "    # TODO: compute gradients for minibatch and apply them\n",
    "    ##################################################################################\n",
    "    with tf.GradientTape() as T:\n",
    "        loss_value = loss_function(model, x, y)\n",
    "    grads = T.gradient(target=loss_value, sources=model.trainable_variables)\n",
    "    optimizer.apply_gradients(zip(grads, model.trainable_variables))\n",
    "    ##################################################################################\n",
    "    return loss_value"
   ]
  },
  {
   "cell_type": "code",
   "execution_count": 22,
   "metadata": {},
   "outputs": [
    {
     "name": "stdout",
     "output_type": "stream",
     "text": [
      " Train Phase - epoch: 200/200 |step: 4/4 |loss: 0.055 |etc: 0.9833333492279053"
     ]
    }
   ],
   "source": [
    "EPOCHS = 200\n",
    "NUM_EXAMPLES = 150\n",
    "STEPS = NUM_EXAMPLES//BATCH_SIZE\n",
    "\n",
    "# 도식화를 위해 결과를 저장합니다.\n",
    "train_loss_results = []\n",
    "train_accuracy_results = []\n",
    "\n",
    "for e in range(EPOCHS):\n",
    "    epoch_loss_avg = tf.keras.metrics.Mean()\n",
    "    epoch_accuracy = tf.keras.metrics.SparseCategoricalAccuracy()\n",
    "\n",
    "    # 훈련 루프 - 32개의 배치를 사용합니다.\n",
    "    for s, minibatch in enumerate(train_dataset):\n",
    "        x, y = minibatch\n",
    "        ##################################################################################\n",
    "        # train_step: compute gradients for minibatch and apply them\n",
    "        ##################################################################################\n",
    "        loss_value = train_step(model, x, y, optimizer=optimizer)\n",
    "        ##################################################################################\n",
    "        # 진행 상황을 추적합니다.\n",
    "        epoch_loss_avg(loss_value)  # 현재 배치 손실을 추가합니다.\n",
    "        # 예측된 레이블과 실제 레이블 비교합니다.\n",
    "        epoch_accuracy(y, model(x))\n",
    "        print_progress(epoch=e+1, max_epoch=EPOCHS, step=s+1, max_step=STEPS, \n",
    "                       loss=epoch_loss_avg.result(), \n",
    "                       etc=epoch_accuracy.result())\n",
    "\n",
    "    # epoch 종료\n",
    "    train_loss_results.append(epoch_loss_avg.result())\n",
    "    train_accuracy_results.append(epoch_accuracy.result())"
   ]
  },
  {
   "cell_type": "code",
   "execution_count": 23,
   "metadata": {},
   "outputs": [
    {
     "data": {
      "image/png": "[encoded data removed]",
      "text/plain": [
       "<Figure size 864x576 with 2 Axes>"
      ]
     },
     "metadata": {
      "needs_background": "light"
     },
     "output_type": "display_data"
    }
   ],
   "source": [
    "fig, axes = plt.subplots(2, sharex=True, figsize=(12, 8))\n",
    "fig.suptitle('Graphs')\n",
    "\n",
    "axes[0].set_ylabel(\"Loss\", fontsize=14)\n",
    "axes[0].plot(train_loss_results)\n",
    "\n",
    "axes[1].set_ylabel(\"Accuracy\", fontsize=14)\n",
    "axes[1].set_xlabel(\"Epoch\", fontsize=14)\n",
    "axes[1].plot(train_accuracy_results)\n",
    "plt.show()"
   ]
  },
  {
   "cell_type": "markdown",
   "metadata": {},
   "source": [
    "**Test Phase**"
   ]
  },
  {
   "cell_type": "code",
   "execution_count": 24,
   "metadata": {},
   "outputs": [
    {
     "name": "stdout",
     "output_type": "stream",
     "text": [
      "/home/swyoo/.keras/datasets/iris_test.csv\n"
     ]
    }
   ],
   "source": [
    "test_url = \"https://storage.googleapis.com/download.tensorflow.org/data/iris_test.csv\"\n",
    "test_fp = tf.keras.utils.get_file(fname=os.path.basename(test_url), origin=test_url)\n",
    "print(test_fp)"
   ]
  },
  {
   "cell_type": "code",
   "execution_count": 25,
   "metadata": {},
   "outputs": [],
   "source": [
    "test_dataset = tf.data.experimental.make_csv_dataset(test_fp, BATCH_SIZE, column_names=column_names, \n",
    "                                                     label_name='species', num_epochs=1, shuffle=False)\n",
    "test_dataset = test_dataset.map(pack_features_vector)"
   ]
  },
  {
   "cell_type": "code",
   "execution_count": 26,
   "metadata": {},
   "outputs": [
    {
     "name": "stdout",
     "output_type": "stream",
     "text": [
      "Accuracy for test dataset 93.333%\n"
     ]
    }
   ],
   "source": [
    "test_accuracy = tf.keras.metrics.Accuracy()\n",
    "\n",
    "for (x, y) in test_dataset:\n",
    "    logits = model(x)\n",
    "    prediction = tf.argmax(logits, axis=1, output_type=tf.int32)\n",
    "    test_accuracy(prediction, y)\n",
    "\n",
    "print(\"Accuracy for test dataset {:.3%}\".format(test_accuracy.result()))"
   ]
  }
 ],
 "metadata": {
  "kernelspec": {
   "display_name": "Python 3",
   "language": "python",
   "name": "python3"
  },
  "language_info": {
   "codemirror_mode": {
    "name": "ipython",
    "version": 3
   },
   "file_extension": ".py",
   "mimetype": "text/x-python",
   "name": "python",
   "nbconvert_exporter": "python",
   "pygments_lexer": "ipython3",
   "version": "3.7.5"
  }
 },
 "nbformat": 4,
 "nbformat_minor": 4
}

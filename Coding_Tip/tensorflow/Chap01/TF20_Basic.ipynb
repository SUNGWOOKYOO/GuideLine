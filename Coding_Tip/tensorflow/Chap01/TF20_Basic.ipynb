{
 "cells": [
  {
   "cell_type": "markdown",
   "metadata": {},
   "source": [
    "# Tensorflow 2.0 Practice\n",
    "\n",
    "Advanced 부터 차례대로 공부하겠다. [offical tutorial](https://www.tensorflow.org/tutorials/customization/basics)"
   ]
  },
  {
   "cell_type": "code",
   "execution_count": 3,
   "metadata": {},
   "outputs": [
    {
     "name": "stdout",
     "output_type": "stream",
     "text": [
      "python is /home/swyoo/anaconda3/envs/ts20/bin/python\n"
     ]
    }
   ],
   "source": [
    "!type python"
   ]
  },
  {
   "cell_type": "code",
   "execution_count": 4,
   "metadata": {},
   "outputs": [
    {
     "name": "stdout",
     "output_type": "stream",
     "text": [
      "3.7.5\n"
     ]
    }
   ],
   "source": [
    "from platform import python_version\n",
    "print(python_version())"
   ]
  },
  {
   "cell_type": "code",
   "execution_count": 5,
   "metadata": {},
   "outputs": [
    {
     "data": {
      "text/plain": [
       "'2.0.0'"
      ]
     },
     "execution_count": 5,
     "metadata": {},
     "output_type": "execute_result"
    }
   ],
   "source": [
    "import tensorflow as tf\n",
    "tf.__version__"
   ]
  },
  {
   "cell_type": "code",
   "execution_count": 6,
   "metadata": {},
   "outputs": [],
   "source": [
    "import matplotlib.pyplot as plt\n",
    "import sys"
   ]
  },
  {
   "cell_type": "markdown",
   "metadata": {},
   "source": [
    "## Customization"
   ]
  },
  {
   "cell_type": "code",
   "execution_count": 7,
   "metadata": {},
   "outputs": [],
   "source": [
    "from __future__ import absolute_import, division, print_function, unicode_literals"
   ]
  },
  {
   "cell_type": "code",
   "execution_count": 8,
   "metadata": {},
   "outputs": [],
   "source": [
    "# 최초 실행 시 연산과 텐서가 어떤 장치에 할당되었는지 확인할 수 있게 한다.\n",
    "# tf.debugging.set_log_device_placement(True)\n",
    "tf.debugging.set_log_device_placement(False)"
   ]
  },
  {
   "cell_type": "code",
   "execution_count": 9,
   "metadata": {},
   "outputs": [],
   "source": [
    "cpus = tf.config.experimental.list_physical_devices('CPU')\n",
    "gpus = tf.config.experimental.list_physical_devices('GPU')"
   ]
  },
  {
   "cell_type": "code",
   "execution_count": 10,
   "metadata": {},
   "outputs": [
    {
     "name": "stdout",
     "output_type": "stream",
     "text": [
      "[PhysicalDevice(name='/physical_device:CPU:0', device_type='CPU')]\n",
      "[PhysicalDevice(name='/physical_device:GPU:0', device_type='GPU')]\n"
     ]
    }
   ],
   "source": [
    "print(cpus)\n",
    "print(gpus)"
   ]
  },
  {
   "cell_type": "code",
   "execution_count": 11,
   "metadata": {},
   "outputs": [
    {
     "name": "stdout",
     "output_type": "stream",
     "text": [
      "[VirtualDeviceConfiguration(memory_limit=2048)]\n"
     ]
    }
   ],
   "source": [
    "# GPU 메모리 제한하기\n",
    "MEMORY_LIMIT_CONFIG = [tf.config.experimental.VirtualDeviceConfiguration(memory_limit=2048)]\n",
    "print(MEMORY_LIMIT_CONFIG)\n",
    "tf.config.experimental.set_virtual_device_configuration(gpus[0], MEMORY_LIMIT_CONFIG)"
   ]
  },
  {
   "cell_type": "code",
   "execution_count": 12,
   "metadata": {},
   "outputs": [
    {
     "name": "stdout",
     "output_type": "stream",
     "text": [
      "GPU 사용이 가능한가 : \n",
      "True\n",
      "텐서가 GPU #0에 있는가 : \n",
      "True\n"
     ]
    }
   ],
   "source": [
    "x = tf.random.uniform([3, 3])\n",
    "print(\"GPU 사용이 가능한가 : \"),\n",
    "# 실행하면, 자동으로 GPU에 공간 할당됨\n",
    "# GPU의 대부분의 공간을 미리 할당시켜버림. 어떻게 조절할지 알 필요 있음.\n",
    "print(tf.test.is_gpu_available()) \n",
    "print(\"텐서가 GPU #0에 있는가 : \"),\n",
    "print(x.device.endswith('GPU:0'))"
   ]
  },
  {
   "cell_type": "code",
   "execution_count": 11,
   "metadata": {},
   "outputs": [],
   "source": [
    "# input_shape 는 **kwargs 의 variable length argument list 중의 하나로 쓰이며, \n",
    "# 유추 가능하기 때문에 꼭 명시할 필요는 없다.\n",
    "# class 로 정의 되어있어, __init__ (생성자)의 호출 시와 call 할때가 다르게 사용된다. \n",
    "layer = tf.keras.layers.Dense(units=10, input_shape=(None, 5))\n",
    "# layer = tf.keras.layers.Dense(10)"
   ]
  },
  {
   "cell_type": "code",
   "execution_count": 12,
   "metadata": {},
   "outputs": [
    {
     "data": {
      "text/plain": [
       "<tf.Tensor: id=36, shape=(2, 10), dtype=float32, numpy=\n",
       "array([[ 0.8198186 , -0.88860494,  1.2101464 , -0.9263867 , -0.73766774,\n",
       "         0.11913571, -1.3673494 , -1.146067  ,  0.81073767,  0.31081158],\n",
       "       [ 0.8198186 , -0.88860494,  1.2101464 , -0.9263867 , -0.73766774,\n",
       "         0.11913571, -1.3673494 , -1.146067  ,  0.81073767,  0.31081158]],\n",
       "      dtype=float32)>"
      ]
     },
     "execution_count": 12,
     "metadata": {},
     "output_type": "execute_result"
    }
   ],
   "source": [
    "# test\n",
    "layer(inputs=tf.ones(shape=[2, 5]))"
   ]
  },
  {
   "cell_type": "code",
   "execution_count": 13,
   "metadata": {},
   "outputs": [
    {
     "data": {
      "text/plain": [
       "[<tf.Variable 'dense/kernel:0' shape=(5, 10) dtype=float32, numpy=\n",
       " array([[ 0.49210888,  0.02900553,  0.52036124, -0.13557798, -0.6163832 ,\n",
       "          0.07199657, -0.5997032 , -0.16421708,  0.11984706, -0.26231354],\n",
       "        [-0.07796329,  0.31993234, -0.30296525, -0.31871095, -0.11948001,\n",
       "         -0.21521938,  0.0102039 , -0.5758564 ,  0.2235232 ,  0.43411213],\n",
       "        [ 0.05841208, -0.5860128 ,  0.31595618, -0.2866906 , -0.03214568,\n",
       "          0.47947377, -0.45943266, -0.12502378, -0.34955096, -0.55354846],\n",
       "        [-0.07855195, -0.47894374,  0.16983384, -0.2957836 ,  0.55795556,\n",
       "          0.2081415 ,  0.20840645, -0.4421453 ,  0.19660991,  0.163504  ],\n",
       "        [ 0.4258129 , -0.17258632,  0.50696045,  0.11037648, -0.5276144 ,\n",
       "         -0.42525676, -0.5268238 ,  0.16117549,  0.62030846,  0.52905744]],\n",
       "       dtype=float32)>,\n",
       " <tf.Variable 'dense/bias:0' shape=(10,) dtype=float32, numpy=array([0., 0., 0., 0., 0., 0., 0., 0., 0., 0.], dtype=float32)>]"
      ]
     },
     "execution_count": 13,
     "metadata": {},
     "output_type": "execute_result"
    }
   ],
   "source": [
    "# layer.variables\n",
    "layer.trainable_variables"
   ]
  },
  {
   "cell_type": "code",
   "execution_count": 14,
   "metadata": {},
   "outputs": [
    {
     "name": "stdout",
     "output_type": "stream",
     "text": [
      "<tf.Variable 'dense/kernel:0' shape=(5, 10) dtype=float32, numpy=\n",
      "array([[ 0.49210888,  0.02900553,  0.52036124, -0.13557798, -0.6163832 ,\n",
      "         0.07199657, -0.5997032 , -0.16421708,  0.11984706, -0.26231354],\n",
      "       [-0.07796329,  0.31993234, -0.30296525, -0.31871095, -0.11948001,\n",
      "        -0.21521938,  0.0102039 , -0.5758564 ,  0.2235232 ,  0.43411213],\n",
      "       [ 0.05841208, -0.5860128 ,  0.31595618, -0.2866906 , -0.03214568,\n",
      "         0.47947377, -0.45943266, -0.12502378, -0.34955096, -0.55354846],\n",
      "       [-0.07855195, -0.47894374,  0.16983384, -0.2957836 ,  0.55795556,\n",
      "         0.2081415 ,  0.20840645, -0.4421453 ,  0.19660991,  0.163504  ],\n",
      "       [ 0.4258129 , -0.17258632,  0.50696045,  0.11037648, -0.5276144 ,\n",
      "        -0.42525676, -0.5268238 ,  0.16117549,  0.62030846,  0.52905744]],\n",
      "      dtype=float32)> <tf.Variable 'dense/bias:0' shape=(10,) dtype=float32, numpy=array([0., 0., 0., 0., 0., 0., 0., 0., 0., 0.], dtype=float32)>\n"
     ]
    }
   ],
   "source": [
    "# 또한 변수는 객체의 속성을 통해 편리하게 접근 가능합니다.\n",
    "print(layer.kernel, layer.bias)"
   ]
  },
  {
   "cell_type": "markdown",
   "metadata": {},
   "source": [
    "### User Defined Layer \n",
    "\n",
    "[detail tutorial](https://www.tensorflow.org/guide/keras/custom_layers_and_models?hl=ko)  \n",
    "build 함수를 정의하는 이유는 변수를 생성할때, input의 사이즈를 알고나서 생성되도록 하기 위해 lazy한 방법을 쓴다고한다.\n",
    "> In many cases, you may not know in advance the size of your inputs, and you would like to lazily create weights when that value becomes known, some time after instantiating the layer.\n",
    "\n",
    "`tf.keras.Model.build()` 설명을 보면 다음과 같이 나온다,\n",
    "> Builds the model based on input shapes received.\n",
    "\n",
    "<font color=red>따라서, class를 생성한 뒤, call 함수가 실행되어야 weight가 생성된다.</font>\n",
    "> The `__call__` method of your layer will automatically run build the first time it is called. You now have a layer that's lazy and easy to use:\n",
    "\n",
    "build 함수가 잘 구현 되어있는 block들을 사용할때는 굳이 build함수를 쓰지 않아도 된다. \n",
    "> We recommend creating such sublayers in the `__init__` method (since the sublayers will typically have a `build` method, they will be built when the outer layer gets built)."
   ]
  },
  {
   "cell_type": "code",
   "execution_count": 49,
   "metadata": {},
   "outputs": [
    {
     "data": {
      "text/plain": [
       "<function tensorflow.python.keras.engine.network.Network.build(self, input_shape)>"
      ]
     },
     "execution_count": 49,
     "metadata": {},
     "output_type": "execute_result"
    }
   ],
   "source": [
    "tf.keras.Model.build"
   ]
  },
  {
   "cell_type": "code",
   "execution_count": 15,
   "metadata": {},
   "outputs": [],
   "source": [
    "# user defined layer \n",
    "class Mylayer(tf.keras.layers.Layer):\n",
    "    def  __init__(self, units):\n",
    "        super(Mylayer, self).__init__() # call predecessor constructors  \n",
    "        self.units = units\n",
    "    \n",
    "    def build(self, input_shape):\n",
    "        # lazy 하게 weigh를 생성한다.\n",
    "        # tf.keras.layers.Layer.add_weight() 사용\n",
    "        self.kernel = self.add_weight(name=\"kernel\", \n",
    "                                      shape=[int(input_shape[-1]), self.units])\n",
    "    def call(self, input_tensor):\n",
    "        return tf.matmul(input_tensor, self.kernel)"
   ]
  },
  {
   "cell_type": "code",
   "execution_count": 16,
   "metadata": {},
   "outputs": [
    {
     "name": "stdout",
     "output_type": "stream",
     "text": [
      "tf.Tensor(\n",
      "[[0. 0. 0. 0. 0. 0. 0. 0. 0. 0.]\n",
      " [0. 0. 0. 0. 0. 0. 0. 0. 0. 0.]], shape=(2, 10), dtype=float32)\n",
      "[<tf.Variable 'mylayer/kernel:0' shape=(5, 10) dtype=float32, numpy=\n",
      "array([[-0.45040762, -0.2984862 ,  0.2633192 , -0.1346401 ,  0.23823297,\n",
      "        -0.27410316, -0.00849378, -0.16337568,  0.6027042 ,  0.26535392],\n",
      "       [-0.3535125 ,  0.04540563,  0.09602809, -0.577183  , -0.10600388,\n",
      "         0.3915077 , -0.2815128 , -0.38232723, -0.03031331, -0.15132022],\n",
      "       [-0.42385232,  0.10247147, -0.4420138 , -0.37675497,  0.02122235,\n",
      "        -0.14790168, -0.28508905, -0.4250039 ,  0.00781316,  0.6271668 ],\n",
      "       [-0.54137087,  0.27699816,  0.60922915,  0.1537891 , -0.0382576 ,\n",
      "         0.43740827,  0.5133489 ,  0.47988886, -0.1730524 , -0.3252433 ],\n",
      "       [ 0.44397277,  0.3534187 ,  0.18904454,  0.24400097,  0.3980748 ,\n",
      "        -0.43413132, -0.23143587, -0.3943201 , -0.41686806,  0.5372775 ]],\n",
      "      dtype=float32)>]\n"
     ]
    }
   ],
   "source": [
    "layer = Mylayer(10)\n",
    "print(layer(tf.zeros([2,5])))\n",
    "print(layer.trainable_variables)"
   ]
  },
  {
   "cell_type": "markdown",
   "metadata": {},
   "source": [
    "### User Defined Model"
   ]
  },
  {
   "cell_type": "code",
   "execution_count": 17,
   "metadata": {},
   "outputs": [],
   "source": [
    "# user defined model\n",
    "class Model_block(tf.keras.Model):\n",
    "    def __init__(self, kernel_size, filters):\n",
    "        super(Model_block, self).__init__(name='swyoo_model')\n",
    "        self.conv2a = tf.keras.layers.Conv2D(filters=filters, kernel_size=kernel_size, padding='same')\n",
    "        self.bn2a = tf.keras.layers.BatchNormalization()\n",
    "        \n",
    "    def call(self, input_tensor, training=False):\n",
    "        \"\"\"\n",
    "        Args:\n",
    "            input_tensor.shape=(samples, rows, cols, channels)\n",
    "        \"\"\"\n",
    "        x = self.conv2a(input_tensor) # [samples, new_rows, new_cols, filters]\n",
    "        # batch normalization: training fast, regularization effects\n",
    "        x = self.bn2a(x, training=training)\n",
    "        # skip connection: help flowing gradients\n",
    "        x += input_tensor\n",
    "        return tf.nn.relu(x)\n"
   ]
  },
  {
   "cell_type": "code",
   "execution_count": 18,
   "metadata": {},
   "outputs": [
    {
     "data": {
      "text/plain": [
       "TensorShape([1, 16, 32, 3])"
      ]
     },
     "execution_count": 18,
     "metadata": {},
     "output_type": "execute_result"
    }
   ],
   "source": [
    "block = Model_block(kernel_size=(1, 1), filters=1)\n",
    "result = block(tf.ones(shape=[1, 16, 32, 3]))\n",
    "result.shape"
   ]
  },
  {
   "cell_type": "markdown",
   "metadata": {},
   "source": [
    "<font color=red>Warning:</font> model 이 call(즉, build)된 후에 variables과 summary가 생기므로 `__call__()`을 egar execuation 해야한다."
   ]
  },
  {
   "cell_type": "code",
   "execution_count": 19,
   "metadata": {},
   "outputs": [
    {
     "name": "stdout",
     "output_type": "stream",
     "text": [
      "swyoo_model/conv2d/kernel:0\n",
      "swyoo_model/conv2d/bias:0\n",
      "swyoo_model/batch_normalization/gamma:0\n",
      "swyoo_model/batch_normalization/beta:0\n"
     ]
    },
    {
     "data": {
      "text/plain": [
       "[None, None, None, None]"
      ]
     },
     "execution_count": 19,
     "metadata": {},
     "output_type": "execute_result"
    }
   ],
   "source": [
    "[print(x.name) for x in block.trainable_variables]"
   ]
  },
  {
   "cell_type": "code",
   "execution_count": 20,
   "metadata": {},
   "outputs": [
    {
     "name": "stdout",
     "output_type": "stream",
     "text": [
      "Model: \"swyoo_model\"\n",
      "_________________________________________________________________\n",
      "Layer (type)                 Output Shape              Param #   \n",
      "=================================================================\n",
      "conv2d (Conv2D)              multiple                  4         \n",
      "_________________________________________________________________\n",
      "batch_normalization (BatchNo multiple                  4         \n",
      "=================================================================\n",
      "Total params: 8\n",
      "Trainable params: 6\n",
      "Non-trainable params: 2\n",
      "_________________________________________________________________\n"
     ]
    }
   ],
   "source": [
    "block.summary()"
   ]
  },
  {
   "cell_type": "markdown",
   "metadata": {},
   "source": [
    "### Automatic Differential Tape\n",
    "\n",
    "텐서플로는 후진 방식 자동 미분(reverse mode differentiation)을 사용해 테이프에 \"기록된\" 연산의 그래디언트를 계산\n",
    "\n",
    "$$ \n",
    "\\begin{align}\n",
    "y &= x^3 \\\\\n",
    "\\frac{\\partial{y}}{\\partial{x}} &= 3x^2 \\\\\n",
    "\\frac{\\partial{^2y}}{\\partial{^2x}} &= 6x\n",
    "\\end{align}\n",
    "$$"
   ]
  },
  {
   "cell_type": "markdown",
   "metadata": {},
   "source": [
    "#### toy example 1"
   ]
  },
  {
   "cell_type": "code",
   "execution_count": 21,
   "metadata": {},
   "outputs": [],
   "source": [
    "x = tf.Variable(1.0)  # 1.0으로 초기화된 텐서플로 변수를 생성합니다.\n",
    "\n",
    "with tf.GradientTape() as t:\n",
    "    with tf.GradientTape() as t2:\n",
    "        y = x * x * x\n",
    "    # 't' 컨텍스트 매니저 안의 그래디언트를 계산합니다.\n",
    "    # 이것은 또한 그래디언트 연산 자체도 미분가능하다는 것을 의미합니다. \n",
    "    dy_dx = t2.gradient(y, x)\n",
    "d2y_dx2 = t.gradient(dy_dx, x)\n",
    "\n",
    "assert dy_dx.numpy() == 3.0\n",
    "assert d2y_dx2.numpy() == 6.0"
   ]
  },
  {
   "cell_type": "markdown",
   "metadata": {},
   "source": [
    "---\n",
    "#### toy example 2 \n",
    "\n",
    "이번 튜토리얼에서는 선형 모델의 간단한 예제를 살펴보겠습니다: $f(x) = Wx + b$, 모델은 `W `와 `b` 두 변수를 가지고 있는 선형모델이며, 잘 학습된 모델이 `W = 3.0` and `b = 2.0`의 값을 갖도록 합성 데이터를 만들겠습니다."
   ]
  },
  {
   "cell_type": "code",
   "execution_count": 22,
   "metadata": {},
   "outputs": [],
   "source": [
    "## make dataset \n",
    "TRUE_W = 3.0\n",
    "TRUE_b = 2.0\n",
    "NUM_EXAMPLES = 1000\n",
    "\n",
    "inputs  = tf.random.normal(shape=[NUM_EXAMPLES])\n",
    "noise   = tf.random.normal(shape=[NUM_EXAMPLES])\n",
    "outputs = inputs * TRUE_W + TRUE_b + noise"
   ]
  },
  {
   "cell_type": "code",
   "execution_count": 23,
   "metadata": {},
   "outputs": [
    {
     "name": "stdout",
     "output_type": "stream",
     "text": [
      "(1000,) (1000,)\n"
     ]
    }
   ],
   "source": [
    "print(inputs.shape, outputs.shape) "
   ]
  },
  {
   "cell_type": "code",
   "execution_count": 24,
   "metadata": {},
   "outputs": [],
   "source": [
    "EPOCHS = 10\n",
    "BATCH_SIZE = 100\n",
    "STEPS = NUM_EXAMPLES//BATCH_SIZE"
   ]
  },
  {
   "cell_type": "code",
   "execution_count": 25,
   "metadata": {},
   "outputs": [],
   "source": [
    "dataset_x = tf.data.Dataset.from_tensor_slices(inputs)\n",
    "dataset_y = tf.data.Dataset.from_tensor_slices(outputs)\n",
    "dataset = tf.data.Dataset.zip((dataset_x, dataset_y))\n",
    "batched_dataset = dataset.batch(BATCH_SIZE, drop_remainder=True)"
   ]
  },
  {
   "cell_type": "markdown",
   "metadata": {},
   "source": [
    "**Define Model**"
   ]
  },
  {
   "cell_type": "code",
   "execution_count": 26,
   "metadata": {},
   "outputs": [],
   "source": [
    "class Model(tf.keras.Model):\n",
    "    def __init__(self):\n",
    "        super(Model, self).__init__(name='swyoo')\n",
    "        self.Dense = tf.keras.layers.Dense(units=1, input_shape=[None, 1])\n",
    "#         self.W = tf.Variable(-1.0)\n",
    "#         self.b = tf.Variable(0.0)\n",
    "        \n",
    "    def call(self, input_tensor):\n",
    "        \"\"\"\n",
    "        Args:\n",
    "            input_tensor.shape=(samples, )\n",
    "        Return.shape=(samples, )\n",
    "        \"\"\"\n",
    "        return tf.squeeze(self.Dense(tf.expand_dims(input_tensor, axis=-1)), axis=-1)\n",
    "#         return self.W * input_tensor + self.b"
   ]
  },
  {
   "cell_type": "code",
   "execution_count": 27,
   "metadata": {},
   "outputs": [],
   "source": [
    "model = Model()"
   ]
  },
  {
   "cell_type": "code",
   "execution_count": 28,
   "metadata": {},
   "outputs": [
    {
     "data": {
      "text/plain": [
       "TensorShape([1000])"
      ]
     },
     "execution_count": 28,
     "metadata": {},
     "output_type": "execute_result"
    }
   ],
   "source": [
    "predictions = model(inputs)\n",
    "predictions.shape"
   ]
  },
  {
   "cell_type": "code",
   "execution_count": 29,
   "metadata": {},
   "outputs": [
    {
     "name": "stdout",
     "output_type": "stream",
     "text": [
      "Model: \"swyoo\"\n",
      "_________________________________________________________________\n",
      "Layer (type)                 Output Shape              Param #   \n",
      "=================================================================\n",
      "dense_1 (Dense)              multiple                  2         \n",
      "=================================================================\n",
      "Total params: 2\n",
      "Trainable params: 2\n",
      "Non-trainable params: 0\n",
      "_________________________________________________________________\n"
     ]
    }
   ],
   "source": [
    "model.summary()"
   ]
  },
  {
   "cell_type": "code",
   "execution_count": 30,
   "metadata": {},
   "outputs": [
    {
     "data": {
      "text/plain": [
       "[<tf.Variable 'swyoo/dense_1/kernel:0' shape=(1, 1) dtype=float32, numpy=array([[-0.5730314]], dtype=float32)>,\n",
       " <tf.Variable 'swyoo/dense_1/bias:0' shape=(1,) dtype=float32, numpy=array([0.], dtype=float32)>]"
      ]
     },
     "execution_count": 30,
     "metadata": {},
     "output_type": "execute_result"
    }
   ],
   "source": [
    "model.trainable_variables"
   ]
  },
  {
   "cell_type": "code",
   "execution_count": 31,
   "metadata": {},
   "outputs": [
    {
     "data": {
      "image/png": "[encoded data removed]",
      "text/plain": [
       "<Figure size 432x288 with 1 Axes>"
      ]
     },
     "metadata": {
      "needs_background": "light"
     },
     "output_type": "display_data"
    }
   ],
   "source": [
    "# plot inital examples and predictions \n",
    "plt.scatter(inputs, outputs, c='b')\n",
    "plt.scatter(inputs, model(inputs), c='r')\n",
    "plt.show()"
   ]
  },
  {
   "cell_type": "markdown",
   "metadata": {},
   "source": [
    "**Train Model**"
   ]
  },
  {
   "cell_type": "code",
   "execution_count": 32,
   "metadata": {},
   "outputs": [],
   "source": [
    "# I can use MSE \n",
    "def loss_function(predicted_y, true_y):\n",
    "    \"\"\" predicted_y, true_y are tensor for minibatch  \"\"\"\n",
    "    return tf.reduce_mean(tf.square(predicted_y - true_y))"
   ]
  },
  {
   "cell_type": "code",
   "execution_count": 33,
   "metadata": {},
   "outputs": [
    {
     "data": {
      "text/plain": [
       "<tf.Tensor: id=294, shape=(), dtype=float32, numpy=17.03585>"
      ]
     },
     "execution_count": 33,
     "metadata": {},
     "output_type": "execute_result"
    }
   ],
   "source": [
    "# initial loss before training\n",
    "loss_function(predicted_y=predictions, true_y=outputs)"
   ]
  },
  {
   "cell_type": "code",
   "execution_count": 34,
   "metadata": {},
   "outputs": [],
   "source": [
    "optimizer = tf.keras.optimizers.Adam(learning_rate=1e-1)\n",
    "# optimizer = tf.keras.optimizers.SGD(learning_rate=0.1)"
   ]
  },
  {
   "cell_type": "code",
   "execution_count": 35,
   "metadata": {},
   "outputs": [
    {
     "data": {
      "text/plain": [
       "[<tf.Variable 'swyoo/dense_1/kernel:0' shape=(1, 1) dtype=float32, numpy=array([[-0.5730314]], dtype=float32)>,\n",
       " <tf.Variable 'swyoo/dense_1/bias:0' shape=(1,) dtype=float32, numpy=array([0.], dtype=float32)>]"
      ]
     },
     "execution_count": 35,
     "metadata": {},
     "output_type": "execute_result"
    }
   ],
   "source": [
    "model.trainable_variables"
   ]
  },
  {
   "cell_type": "code",
   "execution_count": 36,
   "metadata": {},
   "outputs": [],
   "source": [
    "def print_progress(epoch, max_epoch, step, max_step, loss, bar):\n",
    "    \"\"\" print progressive states \"\"\"\n",
    "    # Status-message. Note the \\r which means the line should\n",
    "    # overwrite itself.\n",
    "    msg = \"\\r Train Phase - epoch: {0:}/{1:} |step: {2:}/{3:} |loss: {4:.3f} |bar: {5:}\".format(epoch, max_epoch, step, max_step, loss, bar)\n",
    "    # Print it.\n",
    "    sys.stdout.write(msg)\n",
    "    sys.stdout.flush() "
   ]
  },
  {
   "cell_type": "code",
   "execution_count": 37,
   "metadata": {},
   "outputs": [],
   "source": [
    "# Notice the use of `tf.function`\n",
    "# This annotation causes the function to be \"compiled\".\n",
    "@tf.function\n",
    "def train_step(inputs, outputs):\n",
    "    \"\"\"\n",
    "    Global:\n",
    "        model, optimizer\n",
    "    Args:\n",
    "        inputs, outputs\n",
    "    \"\"\"\n",
    "    with tf.GradientTape() as T:\n",
    "        loss_mini = loss_function(model(inputs), outputs)\n",
    "    grads = T.gradient(target=loss_mini, sources=model.trainable_variables)\n",
    "    optimizer.apply_gradients(grads_and_vars=zip(grads, model.trainable_variables))\n",
    "    # model.trainable_variables[0].assign_sub(0.1 * grads[0])\n",
    "    # model.trainable_variables[1].assign_sub(0.1 * grads[1])\n",
    "    return loss_mini"
   ]
  },
  {
   "cell_type": "code",
   "execution_count": 38,
   "metadata": {},
   "outputs": [
    {
     "name": "stdout",
     "output_type": "stream",
     "text": [
      " Train Phase - epoch: 10/10 |step: 10/10 |loss: 0.843 |bar: ##########"
     ]
    }
   ],
   "source": [
    "history = []\n",
    "for e in range(EPOCHS):\n",
    "    bar = ''\n",
    "    loss = 0\n",
    "    for s, batch_list in enumerate(batched_dataset.take(BATCH_SIZE)):\n",
    "        X_mini, Y_mini = batch_list\n",
    "        ###############################################\n",
    "        # TODO: train for a step\n",
    "        ###############################################\n",
    "        loss_mini = train_step(X_mini, Y_mini)\n",
    "        ###############################################\n",
    "        bar+='#'\n",
    "        print_progress(e+1, EPOCHS, s+1, STEPS, loss_mini, bar)\n",
    "        loss += loss_mini\n",
    "    history.append(loss.numpy()/STEPS)"
   ]
  },
  {
   "cell_type": "code",
   "execution_count": 39,
   "metadata": {},
   "outputs": [
    {
     "data": {
      "image/png": "[encoded data removed]",
      "text/plain": [
       "<Figure size 432x288 with 1 Axes>"
      ]
     },
     "metadata": {
      "needs_background": "light"
     },
     "output_type": "display_data"
    }
   ],
   "source": [
    "# loss 변화를 도식화합니다.\n",
    "plt.plot(range(EPOCHS), history, 'r')\n",
    "plt.legend(['loss'])\n",
    "plt.show()"
   ]
  },
  {
   "cell_type": "code",
   "execution_count": 40,
   "metadata": {},
   "outputs": [
    {
     "data": {
      "text/plain": [
       "[<tf.Variable 'swyoo/dense_1/kernel:0' shape=(1, 1) dtype=float32, numpy=array([[3.0602922]], dtype=float32)>,\n",
       " <tf.Variable 'swyoo/dense_1/bias:0' shape=(1,) dtype=float32, numpy=array([2.0209558], dtype=float32)>]"
      ]
     },
     "execution_count": 40,
     "metadata": {},
     "output_type": "execute_result"
    }
   ],
   "source": [
    "model.trainable_variables"
   ]
  },
  {
   "cell_type": "code",
   "execution_count": 41,
   "metadata": {},
   "outputs": [
    {
     "data": {
      "image/png": "[encoded data removed]",
      "text/plain": [
       "<Figure size 432x288 with 1 Axes>"
      ]
     },
     "metadata": {
      "needs_background": "light"
     },
     "output_type": "display_data"
    }
   ],
   "source": [
    "# plot inital examples and predictions \n",
    "plt.scatter(inputs, outputs, c='b')\n",
    "plt.scatter(inputs, model(inputs), c='r')\n",
    "plt.show()"
   ]
  },
  {
   "cell_type": "markdown",
   "metadata": {},
   "source": [
    "# tf.function"
   ]
  },
  {
   "cell_type": "code",
   "execution_count": 1,
   "metadata": {},
   "outputs": [],
   "source": [
    "@tf.function()\n",
    "def add(a, b):\n",
    "    return a + b"
   ]
  },
  {
   "cell_type": "code",
   "execution_count": 13,
   "metadata": {},
   "outputs": [
    {
     "data": {
      "text/plain": [
       "<tf.Tensor: id=13, shape=(2, 2), dtype=float32, numpy=\n",
       "array([[2., 2.],\n",
       "       [2., 2.]], dtype=float32)>"
      ]
     },
     "execution_count": 13,
     "metadata": {},
     "output_type": "execute_result"
    }
   ],
   "source": [
    "add(tf.ones([2, 2]), tf.ones([2, 2]))"
   ]
  },
  {
   "cell_type": "code",
   "execution_count": 14,
   "metadata": {},
   "outputs": [
    {
     "data": {
      "text/plain": [
       "<tf.Tensor: id=25, shape=(), dtype=float32, numpy=1.0>"
      ]
     },
     "execution_count": 14,
     "metadata": {},
     "output_type": "execute_result"
    }
   ],
   "source": [
    "v = tf.Variable(1.0)\n",
    "with tf.GradientTape() as tape:\n",
    "    result = add(v, 1.0)\n",
    "tape.gradient(result, v)"
   ]
  },
  {
   "cell_type": "markdown",
   "metadata": {},
   "source": [
    "--- \n",
    "### Appendix: Dataset 다루기\n",
    "[offical guide](https://www.tensorflow.org/guide/data)"
   ]
  },
  {
   "cell_type": "code",
   "execution_count": 42,
   "metadata": {},
   "outputs": [],
   "source": [
    "dataset = tf.data.Dataset.from_tensor_slices(inputs)"
   ]
  },
  {
   "cell_type": "code",
   "execution_count": 43,
   "metadata": {},
   "outputs": [],
   "source": [
    "it = iter(dataset)"
   ]
  },
  {
   "cell_type": "code",
   "execution_count": 44,
   "metadata": {},
   "outputs": [
    {
     "data": {
      "text/plain": [
       "TensorSpec(shape=(), dtype=tf.float32, name=None)"
      ]
     },
     "execution_count": 44,
     "metadata": {},
     "output_type": "execute_result"
    }
   ],
   "source": [
    "dataset.element_spec # 하나의 example에 대한 shape를 볼 수 있다. "
   ]
  },
  {
   "cell_type": "code",
   "execution_count": 45,
   "metadata": {},
   "outputs": [],
   "source": [
    "dataset_x = tf.data.Dataset.from_tensor_slices(inputs)\n",
    "dataset_y = tf.data.Dataset.from_tensor_slices(outputs)\n",
    "dataset = tf.data.Dataset.zip((dataset_x, dataset_y))\n",
    "batched_dataset = dataset.batch(BATCH_SIZE, drop_remainder=True)"
   ]
  },
  {
   "cell_type": "code",
   "execution_count": 46,
   "metadata": {},
   "outputs": [
    {
     "data": {
      "text/plain": [
       "<BatchDataset shapes: ((100,), (100,)), types: (tf.float32, tf.float32)>"
      ]
     },
     "execution_count": 46,
     "metadata": {},
     "output_type": "execute_result"
    }
   ],
   "source": [
    "batched_dataset"
   ]
  },
  {
   "cell_type": "code",
   "execution_count": 47,
   "metadata": {},
   "outputs": [
    {
     "data": {
      "text/plain": [
       "(TensorSpec(shape=(100,), dtype=tf.float32, name=None),\n",
       " TensorSpec(shape=(100,), dtype=tf.float32, name=None))"
      ]
     },
     "execution_count": 47,
     "metadata": {},
     "output_type": "execute_result"
    }
   ],
   "source": [
    "batched_dataset.element_spec"
   ]
  },
  {
   "cell_type": "code",
   "execution_count": 48,
   "metadata": {},
   "outputs": [
    {
     "name": "stdout",
     "output_type": "stream",
     "text": [
      "(100,) (100,)\n",
      "(100,) (100,)\n",
      "(100,) (100,)\n",
      "(100,) (100,)\n",
      "(100,) (100,)\n",
      "(100,) (100,)\n",
      "(100,) (100,)\n",
      "(100,) (100,)\n",
      "(100,) (100,)\n",
      "(100,) (100,)\n"
     ]
    }
   ],
   "source": [
    "for batch_list in batched_dataset.take(BATCH_SIZE):\n",
    "    X, Y = batch_list\n",
    "    print(X.shape, Y.shape)"
   ]
  }
 ],
 "metadata": {
  "kernelspec": {
   "display_name": "Python 3",
   "language": "python",
   "name": "python3"
  },
  "language_info": {
   "codemirror_mode": {
    "name": "ipython",
    "version": 3
   },
   "file_extension": ".py",
   "mimetype": "text/x-python",
   "name": "python",
   "nbconvert_exporter": "python",
   "pygments_lexer": "ipython3",
   "version": "3.7.4"
  }
 },
 "nbformat": 4,
 "nbformat_minor": 4
}
